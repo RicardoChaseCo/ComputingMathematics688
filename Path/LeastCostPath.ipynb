{
 "cells": [
  {
   "cell_type": "markdown",
   "id": "abcbea11-5527-40b6-a69b-57d1d99ad4e4",
   "metadata": {},
   "source": [
    "**Least Cost Path Assignment**\n",
    "\n",
    "**Important instructions**\n",
    "\n",
    "- Read the notes **LeastCostPathInRectangularGrid.pdf** file carefully. I spent a lot of time writing these. Understanding what is contained in these notes is critical to getting on top of this assignment.\n",
    "\n",
    "- There is also a **video** that goes over the dynamic programming approach in an example. If you are confused about how dynamic programming is supposed to work, **watch the video.**\n",
    "\n",
    "- When asked to provide a function, your code will be tested on examples and so it is important that you follow the specifications exactly.\n",
    "\n",
    "    - the **input** parameters should have the types specified \n",
    "    - the **outputs** should have the types specified\n",
    "\n",
    "\n",
    "- As usual, when asked to provide a function or literal assignments, these should be done in the cells provided.\n",
    "\n",
    "- Make sure to remove the ellpses \"...\" when giving your answers.\n",
    "\n",
    "- Make sure to not to delete the comment in the first line of a cell that says\n",
    "\n",
    "    Code cell for Problem X\n",
    "\n",
    "or\n",
    "\n",
    "    Literal assignment cell for Problem X\n",
    "\n",
    "- Your literal assignments should be **literal assignments**."
   ]
  },
  {
   "cell_type": "code",
   "execution_count": 31,
   "id": "5b00055e-e72d-433c-9976-e8d211a7d464",
   "metadata": {},
   "outputs": [],
   "source": [
    "import numpy as np\n",
    "import pandas as pd\n",
    "from sympy.utilities.iterables import multiset_permutations"
   ]
  },
  {
   "cell_type": "markdown",
   "id": "32f596b6-c0a3-44a7-9bcb-91b3f62a11f8",
   "metadata": {},
   "source": [
    "**Sympy**\n",
    "\n",
    "We will use the **sympy** package to since it allows us to generate all possible permutations of the elements of a list. The list can consist of identical values, hence the term *multiset*. As you are hopefully all aware, the number of permutations of aaabb is Binomal(5,3) = 10."
   ]
  },
  {
   "cell_type": "code",
   "execution_count": 32,
   "id": "299aaa90-e197-44df-9aa0-81d890ad254e",
   "metadata": {},
   "outputs": [
    {
     "name": "stdout",
     "output_type": "stream",
     "text": [
      "['a', 'a', 'a', 'b', 'b']\n",
      "['a', 'a', 'b', 'a', 'b']\n",
      "['a', 'a', 'b', 'b', 'a']\n",
      "['a', 'b', 'a', 'a', 'b']\n",
      "['a', 'b', 'a', 'b', 'a']\n",
      "['a', 'b', 'b', 'a', 'a']\n",
      "['b', 'a', 'a', 'a', 'b']\n",
      "['b', 'a', 'a', 'b', 'a']\n",
      "['b', 'a', 'b', 'a', 'a']\n",
      "['b', 'b', 'a', 'a', 'a']\n"
     ]
    }
   ],
   "source": [
    "perms=multiset_permutations([\"a\",\"a\",\"a\",\"b\",\"b\"])\n",
    "for p in perms:\n",
    "    print(p)"
   ]
  },
  {
   "cell_type": "markdown",
   "id": "fde3adda-5846-4e32-8490-4db1e2739b01",
   "metadata": {},
   "source": [
    "**Saving and Loading Numpy Arrays**\n",
    "\n",
    "H and V arrays for sample problems have been created for you to download. These arrays are created using a numpy random number generator. The numpy **save** command is used to save the files. Whatever file name haS been used as an argument, by default the suffix *\".npy\"*  is appended to the file name, and the file is saved in a format that can be rea using **in any platform** using the numpy **load** command.\n",
    "\n",
    "In the code below several numpy arrays are loaded. **You should not modify these arrays anywhere in the notebook.**\n",
    "\n",
    "You will need \n",
    "\n",
    "- download the 10 files\n",
    "- run the following code \n",
    "\n",
    "in order to store these arrays for use in the assignment.\n",
    "\n",
    "**Be careful not to over-write these with your own arrays!!!**"
   ]
  },
  {
   "cell_type": "code",
   "execution_count": 33,
   "id": "074628ee-c9b7-4194-8fbf-8d90f32e3c6a",
   "metadata": {},
   "outputs": [
    {
     "name": "stdout",
     "output_type": "stream",
     "text": [
      "[[0.44955589 0.83942522 0.92080801]\n",
      " [0.36959879 0.39579135 0.09652546]\n",
      " [0.07761471 0.21342692 0.77828452]\n",
      " [0.43522011 0.1701762  0.92285193]\n",
      " [0.04969842 0.9164841  0.03735467]]\n",
      "\n",
      "\n",
      "[[0.36568341 0.95579184 0.44995062 0.22592981]\n",
      " [0.25404089 0.8209222  0.46288527 0.89299552]\n",
      " [0.16121709 0.66174634 0.99215048 0.95912954]\n",
      " [0.61961673 0.40424567 0.97597764 0.64643971]]\n"
     ]
    }
   ],
   "source": [
    "H1=np.load(\"H1.npy\")\n",
    "V1=np.load(\"V1.npy\")\n",
    "print(H1)\n",
    "print(\"\\n\")\n",
    "print(V1)\n",
    "H2=np.load(\"H2.npy\")\n",
    "V2=np.load(\"V2.npy\")\n",
    "H3=np.load(\"H3.npy\")\n",
    "V3=np.load(\"V3.npy\")\n",
    "H4=np.load(\"H4.npy\")\n",
    "V4=np.load(\"V4.npy\")\n",
    "H5=np.load(\"H5.npy\")\n",
    "V5=np.load(\"V5.npy\")"
   ]
  },
  {
   "cell_type": "markdown",
   "id": "9be398e0-77a1-420d-b3c6-e5832de27c59",
   "metadata": {},
   "source": [
    "**Problem 1 (5 points)**\n",
    "\n",
    "Write a function called **GetIndicesOfPath** that takes as input a \n",
    "\n",
    "\n",
    "- **path**, which is **list** of individual characters in the set {\"H\",\"V\"} \n",
    "\n",
    "and outputs \n",
    "\n",
    "- a **list** of **2-tuples** giving the pairs of indices $(I,J)$ corresponding to positions in a matrix starting from $(0,0)$ and ending with $(m,n)$ where $m$ is the number of V's in the path, and $n$ is the number of H's in the path.\n",
    "\n",
    "So for example, the path ['H','H','V','V','H'] should give as output the *list*\n",
    "[(0,0),(0,1),(0,2),(1,2),(2,2),(2,3)]"
   ]
  },
  {
   "cell_type": "code",
   "execution_count": 34,
   "id": "b692fee9-3f46-467f-a515-458bfdc05785",
   "metadata": {},
   "outputs": [],
   "source": [
    "# Code cell for Problem 1\n",
    "def GetIndicesOfPath(path):\n",
    "    i = 0\n",
    "    j = 0\n",
    "    tuple_i_j = [(i, j)]\n",
    "    \n",
    "    for character in path:\n",
    "        if character == 'V':\n",
    "            i += 1\n",
    "            j = j\n",
    "            tuple_i_j.append((i, j))\n",
    "        elif character == 'H':\n",
    "            i = i\n",
    "            j += 1\n",
    "            tuple_i_j.append((i, j))\n",
    "    return tuple_i_j\n",
    "    #print()"
   ]
  },
  {
   "cell_type": "markdown",
   "id": "48e4576a-0997-40de-9807-3b0603778ff3",
   "metadata": {},
   "source": [
    "**Problem 2 (5 points)**\n",
    "\n",
    "Write a function called **PathCost** that takes as inputs the following:\n",
    "\n",
    "- two positive integers **m** and **n**, giving grid dimenssions, \n",
    "- a numpy array **H** ($(m+1) \\times n$) giving, in position $(i,j)$ the cost of a horizontal move from $(i,j)$ to $(i,j+1),$ and\n",
    "- a numpy array **V** ($m \\times (n+1))$ giving, in postion $(i,j)$ the cost of a vertical move from $(i,j)$ to $(i+1,j)$\n",
    "- a **path**, which is a list of characters of size $m+n$ consisting of $m$ V's and $n$ H's. \n",
    "\n",
    "and as output the cost of moving from $(0,0)$ to $(m,n)$ defined by the horizontal and vertical moves in path.\n"
   ]
  },
  {
   "cell_type": "code",
   "execution_count": 35,
   "id": "392b4459-7026-4baf-a746-6b619ba39cb0",
   "metadata": {},
   "outputs": [],
   "source": [
    "# Code cell for Problem 2\n",
    "def PathCost(m,n,H,V,path): \n",
    "        \n",
    "    start = (0, 0)\n",
    "    count = 0\n",
    "    (I, J) = start\n",
    "    \n",
    "    for character in path:\n",
    "        if character == 'H':\n",
    "            count += H[I][J]\n",
    "            I = I\n",
    "            J += 1\n",
    "        elif character == 'V':\n",
    "            count += V[I][J]\n",
    "            I += 1\n",
    "            J = J\n",
    "    return count"
   ]
  },
  {
   "cell_type": "markdown",
   "id": "b420cbdd-41a1-48e9-8f4a-878eccad0bc7",
   "metadata": {},
   "source": [
    "**Problem 3 (5 points)**\n",
    "\n",
    "Write a function called **LeastCostPathBruteForce** that takes as input\n",
    "\n",
    "- two positive integers **m** and **n**, giving grid dimensions, \n",
    "- a numpy array **H** ($(m+1) \\times n$) giving, in position $(i,j)$ the cost of a horizontal move from $(i,j)$ to $(i,j+1),$ and\n",
    "- a numpy array **V** ($m \\times (n+1))$ giving, in postion $(i,j)$ the cost of a vertical move from $(i,j)$ to $(i+1,j)$\n",
    "\n",
    "and as output gives a **2-tuple** containing (in the following order):\n",
    "\n",
    "- the **cost** (a number) of a least cost path from $(0,0)$ to $(m,n)$ **rounded to 3 decimal places,** and \n",
    "\n",
    "- an optimal path, which should be a **list of 2-tuples** [(0,0),....,(m,n)] giving nodes visited along an optimal path *in order*.\n",
    "\n",
    "Your function should solve the problem using the **brute-force** approach of iterating over all possible paths.\n",
    "\n",
    "It is always a good idea to test your code problems where a brute-force solution can be found. This code will not be useful practically for large values of $m$ and $n$ but you **can** use it for testing purposes. \n",
    "\n",
    "It would be wise to test your code on some small examples in a **different notebook**."
   ]
  },
  {
   "cell_type": "code",
   "execution_count": 36,
   "id": "7476e5f3-cb5f-4419-8aa9-e537b1856cb0",
   "metadata": {},
   "outputs": [],
   "source": [
    "# Code cell for Problem 3\n",
    "def LeastCostPathBruteForce(m,n,H,V):\n",
    "\n",
    "    Vlist = [\"V\" for i in range(m)]\n",
    "    Hlist = [\"H\" for i in range(n)]\n",
    "    \n",
    "    paths = multiset_permutations(Vlist + Hlist)\n",
    "    \n",
    "    path_tuple = []\n",
    "    cost_tuple = np.inf\n",
    "    \n",
    "    \n",
    "    for path in paths:\n",
    "        \n",
    "        cost = PathCost(m,n,H,V,path)\n",
    "        cost_tuple = min(cost_tuple, cost)\n",
    "        \n",
    "        if cost_tuple == cost:\n",
    "            path_tuple = GetIndicesOfPath(path)\n",
    "        else:\n",
    "            continue\n",
    "            \n",
    "    return round(cost_tuple, 3), path_tuple"
   ]
  },
  {
   "cell_type": "markdown",
   "id": "30e81edc-af7c-49b5-b95a-3105c6288b6b",
   "metadata": {},
   "source": [
    "**Problem 4 (2 points)**\n",
    "\n",
    "Run the code in the following cell to determine the optimal cost and optimal path in the H1, V1 example. \n",
    "\n",
    "**You should not modify the cell - just run it.**"
   ]
  },
  {
   "cell_type": "code",
   "execution_count": 37,
   "id": "0378f4b5-3dab-4ed1-9ecc-3119550442ce",
   "metadata": {},
   "outputs": [
    {
     "data": {
      "text/plain": [
       "(2.4, [(0, 0), (1, 0), (2, 0), (3, 0), (3, 1), (3, 2), (4, 2), (4, 3)])"
      ]
     },
     "execution_count": 37,
     "metadata": {},
     "output_type": "execute_result"
    }
   ],
   "source": [
    "# Code cell for Problem 4\n",
    "LeastCostPathBruteForce(4,3,H1,V1)"
   ]
  },
  {
   "cell_type": "markdown",
   "id": "33feeb71-39e5-40ad-a78f-9b3d8f52f09d",
   "metadata": {},
   "source": [
    "**Problem 5 (2 points)**\n",
    "\n",
    "Run the code in the following cell to determine the optimal cost and optimal path in the H2, V2 example. \n",
    "\n",
    "**You should not modify the cell - just run it.**"
   ]
  },
  {
   "cell_type": "code",
   "execution_count": 38,
   "id": "7f8cef41-9f24-43a4-b66f-f260dc143233",
   "metadata": {},
   "outputs": [
    {
     "data": {
      "text/plain": [
       "(2.746,\n",
       " [(0, 0),\n",
       "  (0, 1),\n",
       "  (1, 1),\n",
       "  (2, 1),\n",
       "  (3, 1),\n",
       "  (3, 2),\n",
       "  (4, 2),\n",
       "  (4, 3),\n",
       "  (4, 4),\n",
       "  (4, 5),\n",
       "  (4, 6),\n",
       "  (5, 6),\n",
       "  (5, 7),\n",
       "  (5, 8)])"
      ]
     },
     "execution_count": 38,
     "metadata": {},
     "output_type": "execute_result"
    }
   ],
   "source": [
    "# Code cell for Problem 5\n",
    "LeastCostPathBruteForce(5,8,H2,V2)"
   ]
  },
  {
   "cell_type": "markdown",
   "id": "64a28843-a60c-46aa-89dd-04d87987b5ae",
   "metadata": {},
   "source": [
    "**Problem 6 (21 points)**\n",
    "\n",
    "Write code that takes the **same inputs** and gives the **same outputs** as in the **LeastCostPathBruteForce** function, but this time solving the problem using dynamic programming as described in the *LeastCostPathInRectangularGrid.pdf* document. Call this function **LeastCostPathDynamicProgramming**.\n",
    "\n",
    "**Make sure** you round your least cost solution to 3 decimal places.\n",
    "\n",
    "You should test your code in **a different notebook** on random cases when m and n are small enough so that the brute-force method can be applied and you should get the same answers using the two methods provided that there is no possibility of multiple optimal paths. (This will have a **very small probability** if you take V and H to be random with uniformly distributed entries.)"
   ]
  },
  {
   "cell_type": "code",
   "execution_count": 39,
   "id": "f91f0a3d-9e3c-497c-ab43-96f14e93abfa",
   "metadata": {},
   "outputs": [],
   "source": [
    "# Code cell for Problem 6\n",
    "def LeastCostPathDynamicProgramming(m,n,H,V):\n",
    "    \n",
    "    \n",
    "    C = np.zeros((m + 1, n + 1))\n",
    "    #print(C)\n",
    "    \n",
    "    D = [[None for _ in range(n + 1)] for __ in range(m + 1)]\n",
    "    #print(D)\n",
    "    \n",
    "    C[0][0] = 0\n",
    "    \n",
    "    #col\n",
    "    for col in range(1, n + 1):\n",
    "        C[0][col] = np.sum(H[0][:col])\n",
    "        D[0][col] = 'H'\n",
    "        \n",
    "    #row\n",
    "    for row in range(1, m + 1):\n",
    "        C[row][0] = np.sum(np.transpose(H)[0][:row])\n",
    "        D[row][0] = 'V'\n",
    "        \n",
    "    # C,D Matrix \n",
    "    for i in range(1, m + 1):\n",
    "        for j in range(1, n + 1):\n",
    "            \n",
    "            if C[i - 1][j] + V[i - 1][j] <= C[i][j - 1] + H[i][j - 1]:\n",
    "                C[i][j] = C[i - 1][j] + V[i - 1][j]\n",
    "                D[i][j] = 'V'\n",
    "            \n",
    "            else:\n",
    "                C[i][j] = C[i][j - 1] + H[i][j - 1]\n",
    "                D[i][j] = 'H'\n",
    "    \n",
    "    \n",
    "    node_for_path = [(m, n)]\n",
    "    \n",
    "    while len(node_for_path) < m + n:\n",
    "        (a, b) = node_for_path[-1]\n",
    "        \n",
    "        if D[a][b] == 'V':\n",
    "            node_for_path.append((a - 1, b))\n",
    "        \n",
    "        elif D[a][b] == 'H':\n",
    "            node_for_path.append((a, b - 1))\n",
    "\n",
    "    node_for_path.reverse()\n",
    "    \n",
    "    return round(C[-1][-1], 3), node_for_path"
   ]
  },
  {
   "cell_type": "markdown",
   "id": "a90b1f3b-8784-4cb5-942f-e0dbfd8d9fd5",
   "metadata": {},
   "source": [
    "**Problem 7 (2 points)**\n",
    "\n",
    "Run the code in the following cell to determine the optimal cost and optimal path in the H1, V1 example. \n",
    "\n",
    "**You should not modify the cell - just run it.**"
   ]
  },
  {
   "cell_type": "code",
   "execution_count": 40,
   "id": "30ff5077-1bac-434c-8486-2ed2268f0383",
   "metadata": {
    "tags": []
   },
   "outputs": [
    {
     "data": {
      "text/plain": [
       "(2.336, [(1, 0), (2, 0), (3, 0), (4, 0), (4, 1), (4, 2), (4, 3)])"
      ]
     },
     "execution_count": 40,
     "metadata": {},
     "output_type": "execute_result"
    }
   ],
   "source": [
    "# Code cell for Problem 7\n",
    "LeastCostPathDynamicProgramming(4,3,H1,V1)"
   ]
  },
  {
   "cell_type": "markdown",
   "id": "aea32ae5-a260-4ba2-8343-2283fc264340",
   "metadata": {},
   "source": [
    "**Problem 8 (2 points)**\n",
    "\n",
    "Run the code in the following cell to determine the optimal cost and optimal path in the H2, V2 example. \n",
    "\n",
    "**You should not modify the cell - just run it.**"
   ]
  },
  {
   "cell_type": "code",
   "execution_count": 41,
   "id": "e8788a6d-65d2-47f5-9442-e2b2953cda6f",
   "metadata": {
    "tags": []
   },
   "outputs": [
    {
     "data": {
      "text/plain": [
       "(2.671,\n",
       " [(1, 0),\n",
       "  (2, 0),\n",
       "  (3, 0),\n",
       "  (3, 1),\n",
       "  (3, 2),\n",
       "  (4, 2),\n",
       "  (4, 3),\n",
       "  (4, 4),\n",
       "  (4, 5),\n",
       "  (4, 6),\n",
       "  (5, 6),\n",
       "  (5, 7),\n",
       "  (5, 8)])"
      ]
     },
     "execution_count": 41,
     "metadata": {},
     "output_type": "execute_result"
    }
   ],
   "source": [
    "# Code cell for Problem 8\n",
    "LeastCostPathDynamicProgramming(5,8,H2,V2)"
   ]
  },
  {
   "cell_type": "markdown",
   "id": "54ebb5bc-b5c9-4169-8713-ea33c082dcd6",
   "metadata": {},
   "source": [
    "**Problem 9 (2 points)**\n",
    "\n",
    "Run the code in the following cell to determine the optimal cost and optimal path in the H3, V3 example. \n",
    "\n",
    "**You should not modify the cell - just run it.**"
   ]
  },
  {
   "cell_type": "code",
   "execution_count": 42,
   "id": "11282638-99da-4dfc-877c-6027a520ed04",
   "metadata": {
    "tags": []
   },
   "outputs": [
    {
     "data": {
      "text/plain": [
       "(17.65,\n",
       " [(1, 0),\n",
       "  (2, 0),\n",
       "  (3, 0),\n",
       "  (4, 0),\n",
       "  (5, 0),\n",
       "  (5, 1),\n",
       "  (5, 2),\n",
       "  (6, 2),\n",
       "  (7, 2),\n",
       "  (8, 2),\n",
       "  (9, 2),\n",
       "  (9, 3),\n",
       "  (10, 3),\n",
       "  (11, 3),\n",
       "  (11, 4),\n",
       "  (11, 5),\n",
       "  (11, 6),\n",
       "  (12, 6),\n",
       "  (13, 6),\n",
       "  (14, 6),\n",
       "  (15, 6),\n",
       "  (16, 6),\n",
       "  (17, 6),\n",
       "  (18, 6),\n",
       "  (19, 6),\n",
       "  (20, 6),\n",
       "  (21, 6),\n",
       "  (21, 7),\n",
       "  (21, 8),\n",
       "  (21, 9),\n",
       "  (22, 9),\n",
       "  (23, 9),\n",
       "  (23, 10),\n",
       "  (23, 11),\n",
       "  (23, 12),\n",
       "  (23, 13),\n",
       "  (24, 13),\n",
       "  (25, 13),\n",
       "  (25, 14),\n",
       "  (25, 15),\n",
       "  (25, 16),\n",
       "  (25, 17),\n",
       "  (25, 18),\n",
       "  (25, 19),\n",
       "  (26, 19),\n",
       "  (26, 20),\n",
       "  (26, 21),\n",
       "  (26, 22),\n",
       "  (26, 23),\n",
       "  (27, 23),\n",
       "  (28, 23),\n",
       "  (29, 23),\n",
       "  (30, 23),\n",
       "  (31, 23),\n",
       "  (32, 23),\n",
       "  (32, 24),\n",
       "  (33, 24),\n",
       "  (34, 24),\n",
       "  (34, 25),\n",
       "  (35, 25),\n",
       "  (36, 25),\n",
       "  (37, 25),\n",
       "  (37, 26),\n",
       "  (37, 27),\n",
       "  (38, 27),\n",
       "  (39, 27),\n",
       "  (39, 28),\n",
       "  (40, 28),\n",
       "  (40, 29),\n",
       "  (40, 30)])"
      ]
     },
     "execution_count": 42,
     "metadata": {},
     "output_type": "execute_result"
    }
   ],
   "source": [
    "# Code cell for Problem 9\n",
    "LeastCostPathDynamicProgramming(40,30,H3,V3)"
   ]
  },
  {
   "cell_type": "markdown",
   "id": "b3e32387-5408-4775-b60a-ba5b0a886a20",
   "metadata": {},
   "source": [
    "**Problem 10 (2 points)**\n",
    "\n",
    "Run the code in the following cell to determine the optimal cost in the H4, V4 example. \n",
    "\n",
    "**You should not modify the cell - just run it.**"
   ]
  },
  {
   "cell_type": "code",
   "execution_count": 43,
   "id": "0871d8d0-1ed2-42ad-98ef-85a07c789ec0",
   "metadata": {
    "tags": []
   },
   "outputs": [
    {
     "data": {
      "text/plain": [
       "168.077"
      ]
     },
     "execution_count": 43,
     "metadata": {},
     "output_type": "execute_result"
    }
   ],
   "source": [
    "# Code cell for Problem 10\n",
    "LeastCostPathDynamicProgramming(400,300,H4,V4)[0]"
   ]
  },
  {
   "cell_type": "markdown",
   "id": "cc482252-0395-496b-b7e6-0035eac10dc8",
   "metadata": {},
   "source": [
    "**Problem 11 (2 points)**\n",
    "\n",
    "Run the code in the following cell to determine the optimal cost in the H5, V5 example. \n",
    "\n",
    "**You should not modify the cell - just run it.**"
   ]
  },
  {
   "cell_type": "code",
   "execution_count": 44,
   "id": "dd854caf-1079-4dc1-b51e-a5bf51e16773",
   "metadata": {
    "tags": []
   },
   "outputs": [
    {
     "data": {
      "text/plain": [
       "422.119"
      ]
     },
     "execution_count": 44,
     "metadata": {},
     "output_type": "execute_result"
    }
   ],
   "source": [
    "# Code cell for Problem 11\n",
    "LeastCostPathDynamicProgramming(800,1000,H5,V5)[0]"
   ]
  },
  {
   "cell_type": "markdown",
   "id": "f354720c-b3a1-48d5-8228-664406dfa4ab",
   "metadata": {},
   "source": [
    "Make sure to \n",
    "\n",
    "- run all cells\n",
    "- save your notebook \n",
    "\n",
    "before submitting it."
   ]
  }
 ],
 "metadata": {
  "kernelspec": {
   "display_name": "Python 3 (ipykernel)",
   "language": "python",
   "name": "python3"
  },
  "language_info": {
   "codemirror_mode": {
    "name": "ipython",
    "version": 3
   },
   "file_extension": ".py",
   "mimetype": "text/x-python",
   "name": "python",
   "nbconvert_exporter": "python",
   "pygments_lexer": "ipython3",
   "version": "3.9.12"
  },
  "vscode": {
   "interpreter": {
    "hash": "bb4885475557d999c30dcebefcaae4a31bd5f1339d9643eb06216dbf9da18f9c"
   }
  }
 },
 "nbformat": 4,
 "nbformat_minor": 5
}
