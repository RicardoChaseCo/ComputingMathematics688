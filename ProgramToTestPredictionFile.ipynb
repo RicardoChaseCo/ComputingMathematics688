{
 "cells": [
  {
   "cell_type": "markdown",
   "id": "9df11268-594a-470f-95e9-5b4b214a35d5",
   "metadata": {},
   "source": [
    "**Program to test prediction csv file**\n",
    "\n",
    "To use this program, assign your fileid in the following cell"
   ]
  },
  {
   "cell_type": "code",
   "execution_count": 8,
   "id": "7b30378f-e124-47c9-8eb4-5cf0df4fc16b",
   "metadata": {},
   "outputs": [],
   "source": [
    "import pandas as pd\n",
    "import re\n",
    "\n",
    "def test_prediction_file(fileid):\n",
    "    try:\n",
    "        dtypes={\"LOAN_ID\":\"object\",\"NMONTHS\":\"float\",\"FORECLOSURE\":\"float\"}\n",
    "        df=pd.read_csv(fileid,dtype=dtypes)\n",
    "    except:\n",
    "        print(\"Error: Your file is unreadable\")\n",
    "        return\n",
    "\n",
    "    def LIDcheck(x):\n",
    "        if re.match(\"[A-Z]{12}\",x):\n",
    "            return(True)\n",
    "        return(False)\n",
    "    \n",
    "    \n",
    "    if df.shape[0]!=100000:\n",
    "        print(\"Error: your file should have 100,000 rows\")\n",
    "        print(\"       not including the header row\")\n",
    "        return\n",
    "    if df.shape[1]<3:\n",
    "        print(\"Error: your file does not have enough columns\")\n",
    "        return\n",
    "    if \"LOAN_ID\" not in df.columns:\n",
    "        print(\"Error: your file does not have a LOAN_ID column\")\n",
    "    else:\n",
    "        LIDCHECKS=df.LOAN_ID.apply(LIDcheck).sum()==100000\n",
    "        if not LIDCHECKS:\n",
    "            print(\"Error: Your LOAN_ID's should all be\")\n",
    "            print(\"       consist of upper case alphabetic characters\")\n",
    "            return\n",
    "        if df.dtypes.LOAN_ID!=\"object\":\n",
    "            print(\"Error: your LOAN_ID column is not the correct type\")\n",
    "            print(\"       should be 'object'\")\n",
    "            return\n",
    "        if df.LOAN_ID.nunique()!=100000:\n",
    "            print(\"Error: You do not have unique LOAN_ID values\")\n",
    "            return\n",
    "        if df.LOAN_ID.isnull().sum()>0:\n",
    "            print(\"Error: You have missing LOAN_ID's\")\n",
    "        if df.LOAN_ID.apply(len).apply(lambda x:x==12).sum()!=100000:\n",
    "            print(\"Error: All LOAN_ID's should have length 12\")\n",
    "            return\n",
    "        \n",
    "    if \"NMONTHS\" not in df.columns:\n",
    "        print(\"Error: your file does not have an NMONTHS column\")\n",
    "        return\n",
    "    if df.NMONTHS.isnull().sum()>0:\n",
    "        print(\"Error: you have missing values in your NMONTHS column\")\n",
    "        return\n",
    "    if \"FORECLOSURE\" not in df.columns:\n",
    "        print(\"Error: your file does not have a FORECLOSURE column\")\n",
    "        return\n",
    "    if df.FORECLOSURE.isnull().sum()>0:\n",
    "        print(\"Error: you have missing values in your FORECLOSURE column\")\n",
    "    if (df.FORECLOSURE==0.).sum()!=99000:\n",
    "        print(\"Error: your FORECLOSURE column should contain 99,000 zeros\")\n",
    "    if (df.FORECLOSURE==1.).sum()!=1000:\n",
    "        print(\"Error: your FORECLOSURE column should contain 1,000 ones\")"
   ]
  },
  {
   "cell_type": "code",
   "execution_count": 9,
   "id": "e119143f-887f-4cc7-acbf-f289e8a8c590",
   "metadata": {},
   "outputs": [],
   "source": [
    "test_prediction_file(\"/Users/jiangxingnandecomputer/Desktop/CAM Final Project/Part3_Data_Xingnan.csv\")"
   ]
  },
  {
   "cell_type": "code",
   "execution_count": null,
   "id": "d667d368-df52-4162-8877-fbb2234207ec",
   "metadata": {},
   "outputs": [],
   "source": []
  }
 ],
 "metadata": {
  "kernelspec": {
   "display_name": "Python 3 (ipykernel)",
   "language": "python",
   "name": "python3"
  },
  "language_info": {
   "codemirror_mode": {
    "name": "ipython",
    "version": 3
   },
   "file_extension": ".py",
   "mimetype": "text/x-python",
   "name": "python",
   "nbconvert_exporter": "python",
   "pygments_lexer": "ipython3",
   "version": "3.9.12"
  }
 },
 "nbformat": 4,
 "nbformat_minor": 5
}
