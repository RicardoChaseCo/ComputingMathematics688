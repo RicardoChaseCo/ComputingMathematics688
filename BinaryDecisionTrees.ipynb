{
 "cells": [
  {
   "cell_type": "markdown",
   "metadata": {},
   "source": [
    "**Binary Trees**\n",
    "\n",
    "To illustrate an application involving classes, we introduce binary trees. These will be important for building _decision trees_, which are important for classification. \n",
    "\n",
    "A binary tree consists of a unique root node and optional additional nodes with the property that\n",
    "\n",
    "- every node has at most two child nodes which are referred to as either its left node or its right node.\n",
    "- every non-root node as a unique parent node\n",
    "- every node has the root node as an ancestor (parent of a parent of a parent ...)\n",
    "- every node has some optional additional data associated with it contained in a dictionary. E.g. one item in the dictionary could be that node's depth (number of parent nodes in the path to the root node).\n",
    "\n",
    "To build a binary tree, we start by creating a node class. An instance of a node has the following:\n",
    "\n",
    "- parent - a node if this node is not a root node and None if this is a root node\n",
    "- right child node\n",
    "- left child node\n",
    "- data associated with the node \n",
    "\n",
    "We want node methods to provide the following capabilities.\n",
    "\n",
    "- Create a root (parentless) node and add optional data to it.\n",
    "- Create a node with some parent and add optional data to it.\n",
    "- Retrieve the data associated with a node\n",
    "- Assign data to a node\n",
    "- Get the left child associated with a node if there is one\n",
    "- Get the right child associated with a node if there is one\n",
    "- Spawn a left child of a given node\n",
    "- Spawn a right child of a given node\n",
    "\n",
    "The data we associate with a node can be quite general. We'll use a dictionary at each node and in the code below, we'll store the depth of each node (depth is 0 for the root node, 1 for its children, 2 for its grandchildren etc.) and a label for each node."
   ]
  },
  {
   "cell_type": "code",
   "execution_count": 2,
   "metadata": {},
   "outputs": [
    {
     "name": "stdout",
     "output_type": "stream",
     "text": [
      "parent of root node = None\n",
      "node label = 0:mother of all nodes\n",
      "   no parent i.e. root node\n",
      "   no left child\n",
      "   no right child\n",
      "\n",
      "node label = 0:mother of all nodes\n",
      "   no parent i.e. root node\n",
      "   left child label 1:daughter of mom of all nodes\n",
      "   right child label 1:son of mom of all nodes\n",
      "\n"
     ]
    }
   ],
   "source": [
    "class node:\n",
    "    __slots__=('parent','left_child','right_child','data')\n",
    "    #\n",
    "    # We instantiate a node by passing a parent (which can be None) \n",
    "    # and an optional dictionary called data to store data at that node.\n",
    "    #\n",
    "    def __init__(self,parent,data={}):\n",
    "        if parent==None:\n",
    "            # making this a root node\n",
    "            self.data=data\n",
    "            self.data[\"depth\"]=0\n",
    "            self.parent=None\n",
    "        else:\n",
    "            # making this a non-root node\n",
    "            self.data=data\n",
    "            self.data[\"depth\"]=parent.data[\"depth\"]+1\n",
    "            self.parent=parent\n",
    "        self.left_child=None\n",
    "        self.right_child=None\n",
    "    def spawn_left_child(self,data={}):\n",
    "        # create a new node n with self as parent w/ given data\n",
    "        n=node(parent=self,data=data)\n",
    "        #n.data=data\n",
    "        n.data[\"depth\"]=self.data[\"depth\"]+1\n",
    "        self.left_child=n\n",
    "        return(n)\n",
    "    def spawn_right_child(self,data={}):\n",
    "        n=node(parent=self,data=data)\n",
    "        #n.data=data\n",
    "        n.data[\"depth\"]=self.data[\"depth\"]+1\n",
    "        self.right_child=n\n",
    "        return(n)\n",
    "    #\n",
    "    # string consisting of information about node\n",
    "    #\n",
    "    def __str__(self):\n",
    "        s=\"node label = \"+self.data[\"label\"]+\"\\n\"\n",
    "        if self.parent==None:\n",
    "            s+=\"   no parent i.e. root node\\n\"\n",
    "        else:\n",
    "            s+=\"   parent label = \" + self.parent.data[\"label\"]+\"\\n\"\n",
    "        if self.left_child==None:\n",
    "            s+=\"   no left child\\n\"\n",
    "        else:\n",
    "            s+=\"   left child label \" + self.left_child.data[\"label\"]+\"\\n\"\n",
    "        if self.right_child==None:\n",
    "            s+=\"   no right child\\n\"\n",
    "        else:\n",
    "            s+=\"   right child label \" + self.right_child.data[\"label\"]+\"\\n\"\n",
    "        \n",
    "        return(s)\n",
    "    \n",
    "    \n",
    "    \n",
    "rootnode=node(parent=None,data={\"label\":\"0:mother of all nodes\"})\n",
    "print(\"parent of root node = \"+str(rootnode.parent))\n",
    "print(rootnode)\n",
    "\n",
    "rootnode.spawn_left_child(data={\"label\":\"1:daughter of mom of all nodes\"})\n",
    "node2=rootnode.spawn_right_child(data={\"label\":\"1:son of mom of all nodes\"})\n",
    "print(node1)\n",
    "print(rootnode)"
   ]
  },
  {
   "cell_type": "markdown",
   "metadata": {},
   "source": [
    "**Build a tree**"
   ]
  },
  {
   "cell_type": "code",
   "execution_count": 3,
   "metadata": {},
   "outputs": [],
   "source": [
    "rootnode=node(parent=None,data={\"label\":\"TD = Top dog\"})\n",
    "node1=rootnode.spawn_left_child(data={\"label\":\"DTD = daughter of Top Dog\"})\n",
    "node2=rootnode.spawn_right_child(data={\"label\":\"STD = son of Top Dog\"})\n",
    "node11=node1.spawn_left_child(data={\"label\":\"DDTD\"})\n",
    "node12=node1.spawn_right_child(data={\"label\":\"SDTD\"})\n",
    "node21=node2.spawn_left_child(data={\"label\":\"DSTD\"})\n",
    "node22=node2.spawn_right_child(data={\"label\":\"SSTD\"})\n",
    "node211=node21.spawn_left_child(data={\"label\":\"DDSTD\"})\n",
    "node2111=node211.spawn_left_child(data={\"label\":\"DDDSTD\"})\n",
    "node2112=node211.spawn_right_child(data={\"label\":\"SDDSTD\"})\n",
    "node212=node21.spawn_right_child(data={\"label\":\"SDSTD\"})"
   ]
  },
  {
   "cell_type": "code",
   "execution_count": 10,
   "metadata": {},
   "outputs": [
    {
     "name": "stdout",
     "output_type": "stream",
     "text": [
      "node label = DDDSTD\n",
      "   parent label = DDSTD\n",
      "   no left child\n",
      "   no right child\n",
      "\n",
      "node label = DDSTD\n",
      "   parent label = DSTD\n",
      "   left child label DDDSTD\n",
      "   right child label SDDSTD\n",
      "\n"
     ]
    }
   ],
   "source": [
    "print(node2111)\n",
    "print(node2111.parent)"
   ]
  },
  {
   "cell_type": "code",
   "execution_count": 11,
   "metadata": {},
   "outputs": [
    {
     "data": {
      "text/plain": [
       "'DDSTD'"
      ]
     },
     "execution_count": 11,
     "metadata": {},
     "output_type": "execute_result"
    }
   ],
   "source": [
    "node2111.parent.data[\"label\"]"
   ]
  },
  {
   "cell_type": "code",
   "execution_count": 13,
   "metadata": {},
   "outputs": [
    {
     "data": {
      "text/plain": [
       "{'label': 'DDDSTD', 'depth': 4}"
      ]
     },
     "execution_count": 13,
     "metadata": {},
     "output_type": "execute_result"
    }
   ],
   "source": [
    "node2111.data"
   ]
  },
  {
   "cell_type": "markdown",
   "metadata": {},
   "source": [
    "**Traverse the tree - depth first**\n",
    "\n",
    "Once we have created a binary tree, we can recursively traverse it. The following code prints out the label of each node (it assumes we have a label key for every node in our tree).\n",
    "\n",
    "A key capability utilized here is that function can call itself.\n",
    "\n",
    "We'll use the join function."
   ]
  },
  {
   "cell_type": "code",
   "execution_count": 5,
   "metadata": {},
   "outputs": [
    {
     "data": {
      "text/plain": [
       "'cat:::bird:::dog:::turtle'"
      ]
     },
     "execution_count": 5,
     "metadata": {},
     "output_type": "execute_result"
    }
   ],
   "source": [
    "\":::\".join([\"cat\",\"bird\",\"dog\",\"turtle\"])"
   ]
  },
  {
   "cell_type": "code",
   "execution_count": 1,
   "metadata": {},
   "outputs": [],
   "source": [
    "def node_string(node):\n",
    "    # create string of spaces with size = depth of node\n",
    "    spaces=\"\".join([\" \" for i in range(node.data[\"depth\"])])\n",
    "    s=spaces+node.data[\"label\"]+\"\\n\"\n",
    "    if node.left_child!=None:\n",
    "        s+=node_string(node.left_child)\n",
    "    if node.right_child!=None:\n",
    "        s+=node_string(node.right_child)\n",
    "    return(s)"
   ]
  },
  {
   "cell_type": "code",
   "execution_count": 82,
   "metadata": {},
   "outputs": [
    {
     "data": {
      "text/plain": [
       "'cat   bird   dog   turtle'"
      ]
     },
     "execution_count": 82,
     "metadata": {},
     "output_type": "execute_result"
    }
   ],
   "source": [
    "\"   \".join([\"cat\",\"bird\",\"dog\",\"turtle\"])"
   ]
  },
  {
   "cell_type": "markdown",
   "metadata": {},
   "source": [
    "When we print the node_string of the root node, we get a label for every node in the entire  tree and the indentation shows "
   ]
  },
  {
   "cell_type": "code",
   "execution_count": 7,
   "metadata": {},
   "outputs": [
    {
     "name": "stdout",
     "output_type": "stream",
     "text": [
      "TD = Top dog\n",
      " DTD = daughter of Top Dog\n",
      "  DDTD\n",
      "  SDTD\n",
      " STD = son of Top Dog\n",
      "  DSTD\n",
      "   DDSTD\n",
      "    DDDSTD\n",
      "    SDDSTD\n",
      "   SDSTD\n",
      "  SSTD\n",
      "\n"
     ]
    }
   ],
   "source": [
    "print(node_string(rootnode))"
   ]
  },
  {
   "cell_type": "markdown",
   "metadata": {},
   "source": [
    "Our function works for any node "
   ]
  },
  {
   "cell_type": "code",
   "execution_count": 8,
   "metadata": {},
   "outputs": [
    {
     "name": "stdout",
     "output_type": "stream",
     "text": [
      " DTD = daughter of Top Dog\n",
      "  DDTD\n",
      "  SDTD\n",
      "\n",
      " STD = son of Top Dog\n",
      "  DSTD\n",
      "   DDSTD\n",
      "    DDDSTD\n",
      "    SDDSTD\n",
      "   SDSTD\n",
      "  SSTD\n",
      "\n"
     ]
    }
   ],
   "source": [
    "print(node_string(rootnode.left_child))\n",
    "print(node_string(rootnode.right_child))"
   ]
  },
  {
   "cell_type": "markdown",
   "metadata": {},
   "source": [
    "**Add class method**\n",
    "\n",
    "As usual, we can make this function a method of our class. When we do that, we need to re-write the function calls so that they look like \"node.node_string()\" instead of \"node-string(node)\""
   ]
  },
  {
   "cell_type": "code",
   "execution_count": 2,
   "metadata": {},
   "outputs": [
    {
     "name": "stdout",
     "output_type": "stream",
     "text": [
      "TD = Top dog\n",
      " DTD = daughter of Top Dog\n",
      "  DDTD\n",
      "  SDTD\n",
      " STD = son of Top Dog\n",
      "  DSTD\n",
      "   DDSTD\n",
      "    DDDSTD\n",
      "    SDDSTD\n",
      "   SDSTD\n",
      "\n"
     ]
    }
   ],
   "source": [
    "class node:\n",
    "    __slots__=('parent','left_child','right_child','data')\n",
    "    #\n",
    "    # We instantiate a node by passing a parent (which can be None) \n",
    "    # and a dictionary\n",
    "    #\n",
    "    def __init__(self,parent,data={}):\n",
    "        if parent==None:\n",
    "            # making this a root node\n",
    "            self.data=data\n",
    "            self.data[\"depth\"]=0\n",
    "            self.parent=None\n",
    "        else:\n",
    "            # making this a non-root node\n",
    "            self.data=data\n",
    "            self.data[\"depth\"]=parent.data[\"depth\"]+1\n",
    "            self.parent=parent\n",
    "        self.left_child=None\n",
    "        self.right_child=None\n",
    "    def spawn_left_child(self,data={}):\n",
    "        n=node(parent=self,data=data)\n",
    "        n.data=data\n",
    "        n.data[\"depth\"]=self.data[\"depth\"]+1\n",
    "        self.left_child=n\n",
    "        return(n)\n",
    "    def spawn_right_child(self,data={}):\n",
    "        n=node(parent=self,data=data)\n",
    "        n.data=data\n",
    "        n.data[\"depth\"]=self.data[\"depth\"]+1\n",
    "        self.right_child=n\n",
    "        return(n)\n",
    "    #\n",
    "    # string consisting of information about node\n",
    "    #\n",
    "    def __str__(self):\n",
    "        s=\"node label = \"+self.data[\"label\"]+\"\\n\"\n",
    "        if self.parent==None:\n",
    "            s+=\"   no parent i.e. root node\\n\"\n",
    "        else:\n",
    "            s+=\"   parent label = \" + self.parent.data[\"label\"]+\"\\n\"\n",
    "        if self.left_child==None:\n",
    "            s+=\"   no left child\\n\"\n",
    "        else:\n",
    "            s+=\"   left child label \" + self.left_child.data[\"label\"]+\"\\n\"\n",
    "        if self.right_child==None:\n",
    "            s+=\"   no right child\\n\"\n",
    "        else:\n",
    "            s+=\"   right child label \" + self.right_child.data[\"label\"]+\"\\n\"\n",
    "        \n",
    "        return(s)\n",
    "    def node_string(self):\n",
    "        spaces=\"\".join([\" \" for i in range(self.data[\"depth\"])])\n",
    "        s=spaces+self.data[\"label\"]+\"\\n\"\n",
    "        if self.left_child!=None:\n",
    "            s+=self.left_child.node_string()\n",
    "        if self.right_child!=None:\n",
    "            s+=self.right_child.node_string()\n",
    "        return(s)\n",
    "rootnode=node(parent=None,data={\"label\":\"TD = Top dog\"})\n",
    "node1=rootnode.spawn_left_child(data={\"label\":\"DTD = daughter of Top Dog\"})\n",
    "node2=rootnode.spawn_right_child(data={\"label\":\"STD = son of Top Dog\"})\n",
    "node11=node1.spawn_left_child(data={\"label\":\"DDTD\"})\n",
    "node12=node1.spawn_right_child(data={\"label\":\"SDTD\"})\n",
    "node21=node2.spawn_left_child(data={\"label\":\"DSTD\"})\n",
    "node211=node21.spawn_left_child(data={\"label\":\"DDSTD\"})\n",
    "node2111=node211.spawn_left_child(data={\"label\":\"DDDSTD\"})\n",
    "node2112=node211.spawn_right_child(data={\"label\":\"SDDSTD\"})\n",
    "node212=node21.spawn_right_child(data={\"label\":\"SDSTD\"})\n",
    "\n",
    "s=rootnode.node_string()\n",
    "print(s)"
   ]
  },
  {
   "cell_type": "code",
   "execution_count": 10,
   "metadata": {},
   "outputs": [
    {
     "name": "stdout",
     "output_type": "stream",
     "text": [
      "   DDSTD\n",
      "    DDDSTD\n",
      "    SDDSTD\n",
      "\n"
     ]
    }
   ],
   "source": [
    "s211=node211.node_string()\n",
    "print(s211)"
   ]
  },
  {
   "cell_type": "markdown",
   "metadata": {},
   "source": [
    "**Binary Decision Trees**"
   ]
  },
  {
   "cell_type": "markdown",
   "metadata": {},
   "source": [
    "A binary decision tree is a binary tree that enables us to predict which category an item falls into based on known characteristics of the item. Here is a simple example from finance. Mortgage loans have the following attributes:\n",
    "\n",
    "- location type (suburban, rural, urban)\n",
    "- borrower's credit score (numerical)\n",
    "- loan principle i.e. size of loan (numerical)\n",
    "- interest rate (numerical)\n",
    " \n",
    "A loan can either be approved or not. We have lots of loan performance data, and based on that, here might be an example of a (by no means realistic) classifier:\n",
    "\n",
    "* location = rural or suburban\n",
    "    * credit score>700\n",
    "        * interest rate>5% => reject\n",
    "        * interest rate<=5% => approve\n",
    "    * credit score<=700 => reject\n",
    "* location = urban\n",
    "    * credit score > 650\n",
    "        * principle > 100K => approve\n",
    "        * principle <= 100K => reject\n",
    "    * credit score <= 650 => reject\n"
   ]
  },
  {
   "cell_type": "markdown",
   "metadata": {},
   "source": [
    "A leaf is a node of a tree that has no chilren. \n",
    "\n",
    "Note the tree structure. We can think of a binary decision tree as a binary tree such that, to classifiy an individual with given variable values we start at the root node and move along a path picking a child node at each step from the current node. Every non leaf has two children and a function at the node, which upon evaluation. Every leaf node has a category and we classify an individual according to the category of the leaf node they ultimately reach.\n",
    "\n",
    "We place a label at each node so that we can see what is going on in the code.\n"
   ]
  },
  {
   "cell_type": "code",
   "execution_count": 24,
   "metadata": {},
   "outputs": [],
   "source": [
    "def f0(x):\n",
    "    if x[\"location\"]==\"rural\" or x==\"suburban\":\n",
    "        return(\"left\")\n",
    "    else:\n",
    "        return(\"right\")\n",
    "\n",
    "def f1(x):\n",
    "    if x[\"credit score\"]>700:\n",
    "        return(\"left\")\n",
    "    else:\n",
    "        return(\"right\")\n",
    "\n",
    "def f2(x):\n",
    "    if x[\"credit score\"]>650:\n",
    "        return(\"left\")\n",
    "    else:\n",
    "        return(\"right\")\n",
    "    \n",
    "def f11(x):\n",
    "    if x[\"interest rate\"]>5:\n",
    "        return(\"left\")\n",
    "    else:\n",
    "        return(\"right\")\n",
    "def f111(x):\n",
    "    return(\"reject\")\n",
    "def f112(x):\n",
    "    return(\"approve\")\n",
    "def f12(x):\n",
    "    return(\"reject\")\n",
    "\n",
    "def f21(x):\n",
    "    if x[\"principle\"]>100:\n",
    "        return(\"left\")\n",
    "    else:\n",
    "        return(\"right\")\n",
    "def f211(x):\n",
    "    return(\"approve\")\n",
    "def f212(x):\n",
    "    return(\"reject\")\n",
    "def f22(x):\n",
    "    return(\"reject\")\n",
    "\n",
    "rootnode=node(parent=None,data={\"f\":f0,\"label\":\"0\"})\n",
    "node1=rootnode.spawn_left_child(data={\"f\":f1,\"label\":\"1\"})\n",
    "node11=node1.spawn_left_child(data={\"f\":f11,\"label\":\"11\"})\n",
    "node111=node11.spawn_left_child(data={\"f\":f111,\"label\":\"111\"})\n",
    "node112=node11.spawn_right_child(data={\"f\":f112,\"label\":\"112\"})\n",
    "node12=node1.spawn_right_child(data={\"f\":f12,\"label\":\"12\"})\n",
    "node2=rootnode.spawn_right_child(data={\"f\":f2,\"label\":\"2\"})\n",
    "node21=node2.spawn_left_child(data={\"f\":f21,\"label\":\"21\"})\n",
    "node211=node21.spawn_left_child(data={\"f\":f211,\"label\":\"211\"})\n",
    "node212=node21.spawn_right_child(data={\"f\":f212,\"label\":\"212\"})\n",
    "node22=node2.spawn_right_child(data={\"f\":f22,\"label\":\"22\"})\n",
    "\n"
   ]
  },
  {
   "cell_type": "markdown",
   "metadata": {},
   "source": [
    "**Classification**\n",
    "\n",
    "Now that we have our tree, we can create a function that uses tree recursion to calculate it given an individual's data, which is assumed to be a dictionary with keys \"location\", \"credit score\", \"interest rate\", \"principle\"."
   ]
  },
  {
   "cell_type": "code",
   "execution_count": 3,
   "metadata": {},
   "outputs": [],
   "source": [
    "def classify(idata):\n",
    "    # initialize current node at root node\n",
    "    cnode=rootnode\n",
    "    #\n",
    "    # if current node as child nodes, compute function \n",
    "    # to determine which child node to go to\n",
    "    #\n",
    "    while cnode.left_child:\n",
    "        print(\"current node label = \", cnode.data[\"label\"])\n",
    "        #\n",
    "        # compute function value at this node (the result is \"left\" or \"right\")\n",
    "        #\n",
    "        value=cnode.data[\"f\"](idata)\n",
    "        print(\"function value = \",cnode.data[\"f\"](x))\n",
    "        if value==\"left\":\n",
    "            cnode=cnode.left_child\n",
    "        else:\n",
    "            cnode=cnode.right_child\n",
    "    #\n",
    "    # current node has no children - we are at a leaf\n",
    "    #\n",
    "    value=cnode.data[\"f\"](idata)\n",
    "    print(\"current node label = \", cnode.data[\"label\"])\n",
    "    print(\"function value = \"+value)\n",
    "    return(value)"
   ]
  },
  {
   "cell_type": "code",
   "execution_count": 4,
   "metadata": {},
   "outputs": [
    {
     "name": "stdout",
     "output_type": "stream",
     "text": [
      "current node label =  TD = Top dog\n"
     ]
    },
    {
     "ename": "KeyError",
     "evalue": "'f'",
     "output_type": "error",
     "traceback": [
      "\u001b[1;31m---------------------------------------------------------------------------\u001b[0m",
      "\u001b[1;31mKeyError\u001b[0m                                  Traceback (most recent call last)",
      "Input \u001b[1;32mIn [4]\u001b[0m, in \u001b[0;36m<cell line: 2>\u001b[1;34m()\u001b[0m\n\u001b[0;32m      1\u001b[0m x\u001b[38;5;241m=\u001b[39m{\u001b[38;5;124m\"\u001b[39m\u001b[38;5;124mlocation\u001b[39m\u001b[38;5;124m\"\u001b[39m:\u001b[38;5;124m\"\u001b[39m\u001b[38;5;124msuburban\u001b[39m\u001b[38;5;124m\"\u001b[39m,\u001b[38;5;124m\"\u001b[39m\u001b[38;5;124mcredit score\u001b[39m\u001b[38;5;124m\"\u001b[39m:\u001b[38;5;241m700\u001b[39m,\u001b[38;5;124m\"\u001b[39m\u001b[38;5;124minterest rate\u001b[39m\u001b[38;5;124m\"\u001b[39m:\u001b[38;5;241m7.5\u001b[39m,\u001b[38;5;124m\"\u001b[39m\u001b[38;5;124mprinciple\u001b[39m\u001b[38;5;124m\"\u001b[39m:\u001b[38;5;241m300\u001b[39m}\n\u001b[1;32m----> 2\u001b[0m result\u001b[38;5;241m=\u001b[39m\u001b[43mclassify\u001b[49m\u001b[43m(\u001b[49m\u001b[43mx\u001b[49m\u001b[43m)\u001b[49m\n\u001b[0;32m      3\u001b[0m \u001b[38;5;28mprint\u001b[39m(\u001b[38;5;124m\"\u001b[39m\u001b[38;5;130;01m\\n\u001b[39;00m\u001b[38;5;124m\"\u001b[39m\u001b[38;5;241m+\u001b[39mresult)\n",
      "Input \u001b[1;32mIn [3]\u001b[0m, in \u001b[0;36mclassify\u001b[1;34m(idata)\u001b[0m\n\u001b[0;32m      9\u001b[0m \u001b[38;5;28mprint\u001b[39m(\u001b[38;5;124m\"\u001b[39m\u001b[38;5;124mcurrent node label = \u001b[39m\u001b[38;5;124m\"\u001b[39m, cnode\u001b[38;5;241m.\u001b[39mdata[\u001b[38;5;124m\"\u001b[39m\u001b[38;5;124mlabel\u001b[39m\u001b[38;5;124m\"\u001b[39m])\n\u001b[0;32m     10\u001b[0m \u001b[38;5;66;03m#\u001b[39;00m\n\u001b[0;32m     11\u001b[0m \u001b[38;5;66;03m# compute function value at this node (the result is \"left\" or \"right\")\u001b[39;00m\n\u001b[0;32m     12\u001b[0m \u001b[38;5;66;03m#\u001b[39;00m\n\u001b[1;32m---> 13\u001b[0m value\u001b[38;5;241m=\u001b[39m\u001b[43mcnode\u001b[49m\u001b[38;5;241;43m.\u001b[39;49m\u001b[43mdata\u001b[49m\u001b[43m[\u001b[49m\u001b[38;5;124;43m\"\u001b[39;49m\u001b[38;5;124;43mf\u001b[39;49m\u001b[38;5;124;43m\"\u001b[39;49m\u001b[43m]\u001b[49m(idata)\n\u001b[0;32m     14\u001b[0m \u001b[38;5;28mprint\u001b[39m(\u001b[38;5;124m\"\u001b[39m\u001b[38;5;124mfunction value = \u001b[39m\u001b[38;5;124m\"\u001b[39m,cnode\u001b[38;5;241m.\u001b[39mdata[\u001b[38;5;124m\"\u001b[39m\u001b[38;5;124mf\u001b[39m\u001b[38;5;124m\"\u001b[39m](x))\n\u001b[0;32m     15\u001b[0m \u001b[38;5;28;01mif\u001b[39;00m value\u001b[38;5;241m==\u001b[39m\u001b[38;5;124m\"\u001b[39m\u001b[38;5;124mleft\u001b[39m\u001b[38;5;124m\"\u001b[39m:\n",
      "\u001b[1;31mKeyError\u001b[0m: 'f'"
     ]
    }
   ],
   "source": [
    "x={\"location\":\"suburban\",\"credit score\":700,\"interest rate\":7.5,\"principle\":300}\n",
    "result=classify(x)\n",
    "print(\"\\n\"+result)"
   ]
  },
  {
   "cell_type": "markdown",
   "metadata": {},
   "source": [
    "**Prediction with probabilities**\n",
    "\n",
    "When predicting a binary outcome (rain/no-rain tomomrrow, loan defaults/load doesn't default, patient survives/patient dies) based on data, it is more informative to report a probability rather than the outcome itself. This has the benefit\n",
    "\n",
    "- the probability reflects uncertainty\n",
    "- the decision-maker can compute an expected loss associated with either decision and act accordingly\n",
    "\n",
    "To illustrate, suppose you know that the chance of a hurricaine hitting Miami tomorrow is 10%. Suppose the loss associated with not preparing for the possibility of a hurricaine when it actually hits is \\\\$ 100,000 and the loss associated with preparing and having it not hit is \\\\$ 500. Then \n",
    "\n",
    "- Expected loss if you don't prepare = .1 x \\\\$ 100,000+ .9 x \\\\$ 0 = \\\\$ 10,000\n",
    "- Expected loss if you do prepare = .1 x \\\\$ 0 + .9 x \\\\$ 500 =  \\\\$ 450\n",
    "\n",
    "So in terms of minizing expected loss it is better to prepare. On the other hand, if the probability of the hurricaine hitting is 1 in 50,000, then by this criterion you ought not prepare.\n",
    "\n",
    "The above is easily modified to return a probability of default (estimated)."
   ]
  },
  {
   "cell_type": "code",
   "execution_count": 5,
   "metadata": {},
   "outputs": [
    {
     "name": "stdout",
     "output_type": "stream",
     "text": [
      "current node label =  0\n",
      "function value =  right\n",
      "current node label =  2\n",
      "function value =  right\n",
      "current node label =  22\n",
      "function value = 0.08\n",
      "\n",
      "0.08\n"
     ]
    }
   ],
   "source": [
    "def f0(x):\n",
    "    if x[\"location\"]==\"rural\" or x==\"suburban\":\n",
    "        return(\"left\")\n",
    "    else:\n",
    "        return(\"right\")\n",
    "\n",
    "def f1(x):\n",
    "    if x[\"credit score\"]>700:\n",
    "        return(\"left\")\n",
    "    else:\n",
    "        return(\"right\")\n",
    "\n",
    "def f2(x):\n",
    "    if x[\"credit score\"]>650:\n",
    "        return(\"left\")\n",
    "    else:\n",
    "        return(\"right\")\n",
    "    \n",
    "def f11(x):\n",
    "    if x[\"interest rate\"]>5:\n",
    "        return(\"left\")\n",
    "    else:\n",
    "        return(\"right\")\n",
    "def f111(x):\n",
    "    return(.23)\n",
    "def f112(x):\n",
    "    return(.05)\n",
    "def f12(x):\n",
    "    return(.17)\n",
    "\n",
    "def f21(x):\n",
    "    if x[\"principle\"]>100:\n",
    "        return(\"left\")\n",
    "    else:\n",
    "        return(\"right\")\n",
    "def f211(x):\n",
    "    return(.04)\n",
    "def f212(x):\n",
    "    return(.09)\n",
    "def f22(x):\n",
    "    return(.08)\n",
    "\n",
    "rootnode=node(parent=None,data={\"f\":f0,\"label\":\"0\"})\n",
    "node1=rootnode.spawn_left_child(data={\"f\":f1,\"label\":\"1\"})\n",
    "node11=node1.spawn_left_child(data={\"f\":f11,\"label\":\"11\"})\n",
    "node111=node11.spawn_left_child(data={\"f\":f111,\"label\":\"111\"})\n",
    "node112=node11.spawn_right_child(data={\"f\":f112,\"label\":\"112\"})\n",
    "node12=node1.spawn_right_child(data={\"f\":f12,\"label\":\"12\"})\n",
    "node2=rootnode.spawn_right_child(data={\"f\":f2,\"label\":\"2\"})\n",
    "node21=node2.spawn_left_child(data={\"f\":f21,\"label\":\"21\"})\n",
    "node211=node21.spawn_left_child(data={\"f\":f211,\"label\":\"211\"})\n",
    "node212=node21.spawn_right_child(data={\"f\":f212,\"label\":\"212\"})\n",
    "node22=node2.spawn_right_child(data={\"f\":f22,\"label\":\"22\"})\n",
    "\n",
    "def classify(idata):\n",
    "    # initialize current node at root node\n",
    "    cnode=rootnode\n",
    "    #\n",
    "    # if current node as child nodes, compute function \n",
    "    # to determine which child node to go to\n",
    "    #\n",
    "    while cnode.left_child:\n",
    "        print(\"current node label = \", cnode.data[\"label\"])\n",
    "        #\n",
    "        # compute function value at this node (the result is \"left\" or \"right\")\n",
    "        #\n",
    "        value=cnode.data[\"f\"](idata)\n",
    "        print(\"function value = \",cnode.data[\"f\"](x))\n",
    "        if value==\"left\":\n",
    "            cnode=cnode.left_child\n",
    "        else:\n",
    "            cnode=cnode.right_child\n",
    "    #\n",
    "    # current node has no children - we are at a leaf\n",
    "    #\n",
    "    value=cnode.data[\"f\"](idata)\n",
    "    print(\"current node label = \", cnode.data[\"label\"])\n",
    "    print(\"function value = \"+str(value))\n",
    "    return(value)\n",
    "x={\"location\":\"urban\",\"credit score\":500,\"interest rate\":7,\"principle\":90}\n",
    "result=classify(x)\n",
    "print(\"\\n\"+str(result))"
   ]
  },
  {
   "cell_type": "code",
   "execution_count": null,
   "metadata": {},
   "outputs": [],
   "source": []
  }
 ],
 "metadata": {
  "kernelspec": {
   "display_name": "Python 3 (ipykernel)",
   "language": "python",
   "name": "python3"
  },
  "language_info": {
   "codemirror_mode": {
    "name": "ipython",
    "version": 3
   },
   "file_extension": ".py",
   "mimetype": "text/x-python",
   "name": "python",
   "nbconvert_exporter": "python",
   "pygments_lexer": "ipython3",
   "version": "3.9.12"
  }
 },
 "nbformat": 4,
 "nbformat_minor": 4
}
