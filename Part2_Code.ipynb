{
 "cells": [
  {
   "cell_type": "code",
   "execution_count": 1,
   "id": "b2652fda-7057-46bb-97c5-808a58774140",
   "metadata": {},
   "outputs": [],
   "source": [
    "#function for data reading\n",
    "\n",
    "import pandas as pd\n",
    "import numpy as np\n",
    "import seaborn as sns\n",
    "import matplotlib.pyplot as plt\n",
    "\n",
    "def read_data(fileid): \n",
    "    stringvariables=[\"LOAN_ID\",\"CHANNEL\", \"FIRST_TIME_HOME_BUYER_IND\",\n",
    "                  \"LOAN_PURPOSE\", \"PROPERTY_TYPE\", \"OCCUPANCY_STATUS\",\n",
    "                  \"PROPERTY_STATE\", \"ZIP_CODE_SHORT\"]\n",
    "    floatvariables=[\"ORIGINAL_INTEREST_RATE\", \"CURRENT_INTEREST_RATE\"]\n",
    "    datevariables=[\"MONTHLY_REPORTING_PERIOD\",\n",
    "                   \"ORIGINATION_DATE\",\n",
    "                   \"FIRST_PAYMENT_DATE\",\n",
    "                   \"MATURITY_DATE\"]\n",
    "    intvariables=[\"ORIGINAL_UPB\", \"ORIGINAL_LOAN_TERM\", \n",
    "                  \"REM_MONTHS_MATURITY\", \"REM_MONTHS_LEGAL_MATURITY\", \n",
    "                  \"LTV\", \"CLTV\", \"NUMBER_OF_BORROWERS\",\"DTI\", \"B_CREDIT_SCORE_O\",\n",
    "                  \"NUMBER_OF_UNITS\", \"MSA\", \"LOAN_AGE\", \"FORECLOSURE\", \"NMONTHS\",\n",
    "                  \"CB_CREDIT_SCORE_O\", \"MORTGAGE_INSURANCE_PERCENTAGE\"]\n",
    "    objectvariables=stringvariables + datevariables\n",
    "    dtypes={}\n",
    "    for s in objectvariables:\n",
    "        dtypes[s]=\"object\"\n",
    "    for s in floatvariables:\n",
    "        dtypes[s]=\"float\"\n",
    "    na_strings=[\"\".join([\" \" for j in range(m)]) for m in range(10)]\n",
    "    df=pd.read_csv(fileid,dtype=dtypes,na_values=na_strings)\n",
    "    for datevar in datevariables:\n",
    "        df[datevar]=pd.to_datetime(df[datevar],format=\"%m%Y\")\n",
    "    return(df)\n"
   ]
  },
  {
   "cell_type": "code",
   "execution_count": 2,
   "id": "c647fd49-b6c3-42e3-9efc-253969af3b1e",
   "metadata": {},
   "outputs": [],
   "source": [
    "#data reading\n",
    "\n",
    "data = pd.DataFrame(read_data('trainQFXD.csv'))\n",
    "data_test = pd.DataFrame(read_data('test_predsQFXD.csv'))"
   ]
  },
  {
   "cell_type": "code",
   "execution_count": 3,
   "id": "59760ff9-3f80-4c7b-8f38-0648f2525f43",
   "metadata": {},
   "outputs": [],
   "source": [
    "#data cleaning\n",
    "\n",
    "#delete two columns that contain too much missing data\n",
    "del data['CB_CREDIT_SCORE_O']\n",
    "del data['MORTGAGE_INSURANCE_PERCENTAGE']\n",
    "del data_test['CB_CREDIT_SCORE_O']\n",
    "del data_test['MORTGAGE_INSURANCE_PERCENTAGE']\n",
    "\n",
    "#delete columns that provide no information for the prediction\n",
    "del data['ZIP_CODE_SHORT']\n",
    "\n",
    "del data['MONTHLY_REPORTING_PERIOD']\n",
    "del data['ORIGINATION_DATE']\n",
    "del data['FIRST_PAYMENT_DATE']\n",
    "del data['MATURITY_DATE']\n",
    "\n",
    "del data_test['ZIP_CODE_SHORT']\n",
    "\n",
    "del data_test['MONTHLY_REPORTING_PERIOD']\n",
    "del data_test['ORIGINATION_DATE']\n",
    "del data_test['FIRST_PAYMENT_DATE']\n",
    "del data_test['MATURITY_DATE']\n",
    "\n",
    "#fill null values by mean value or char value\n",
    "data['CURRENT_INTEREST_RATE'] = data['CURRENT_INTEREST_RATE'].fillna(data['CURRENT_INTEREST_RATE'].mean())\n",
    "data['LOAN_AGE'] = data['LOAN_AGE'].fillna(data['LOAN_AGE'].mean())\n",
    "data['REM_MONTHS_LEGAL_MATURITY'] = data['REM_MONTHS_LEGAL_MATURITY'].fillna(data['REM_MONTHS_LEGAL_MATURITY'].mean())\n",
    "data['REM_MONTHS_MATURITY'] = data['REM_MONTHS_MATURITY'].fillna(data['REM_MONTHS_MATURITY'].mean())\n",
    "data['CLTV'] = data['CLTV'].fillna(data['CLTV'].mean())\n",
    "data['NUMBER_OF_BORROWERS'] = data['NUMBER_OF_BORROWERS'].fillna(data['NUMBER_OF_BORROWERS'].mean())\n",
    "data['DTI'] = data['DTI'].fillna(data['DTI'].mean())\n",
    "data['LTV'] = data['LTV'].fillna(data['LTV'].mean())\n",
    "data['B_CREDIT_SCORE_O'] = data['B_CREDIT_SCORE_O'].fillna(data['B_CREDIT_SCORE_O'].mean())\n",
    "data['FIRST_TIME_HOME_BUYER_IND'] = data['FIRST_TIME_HOME_BUYER_IND'].fillna('N')\n",
    "\n",
    "data_test['CURRENT_INTEREST_RATE'] = data_test['CURRENT_INTEREST_RATE'].fillna(data_test['CURRENT_INTEREST_RATE'].mean())\n",
    "data_test['LOAN_AGE'] = data_test['LOAN_AGE'].fillna(data_test['LOAN_AGE'].mean())\n",
    "data_test['REM_MONTHS_LEGAL_MATURITY'] = data_test['REM_MONTHS_LEGAL_MATURITY'].fillna(data_test['REM_MONTHS_LEGAL_MATURITY'].mean())\n",
    "data_test['REM_MONTHS_MATURITY'] = data_test['REM_MONTHS_MATURITY'].fillna(data_test['REM_MONTHS_MATURITY'].mean())\n",
    "data_test['CLTV'] = data_test['CLTV'].fillna(data_test['CLTV'].mean())\n",
    "data_test['NUMBER_OF_BORROWERS'] = data_test['NUMBER_OF_BORROWERS'].fillna(data_test['NUMBER_OF_BORROWERS'].mean())\n",
    "data_test['DTI'] = data_test['DTI'].fillna(data_test['DTI'].mean())\n",
    "data_test['LTV'] = data_test['LTV'].fillna(data_test['LTV'].mean())\n",
    "data_test['B_CREDIT_SCORE_O'] = data_test['B_CREDIT_SCORE_O'].fillna(data_test['B_CREDIT_SCORE_O'].mean())\n",
    "data_test['FIRST_TIME_HOME_BUYER_IND'] = data_test['FIRST_TIME_HOME_BUYER_IND'].fillna('N')\n",
    "\n",
    "#fixing 0 value data by replacing 0 with mean value\n",
    "data['MSA']=data['MSA'].replace(0,data['MSA'].mean())\n",
    "data_test['MSA']=data_test['MSA'].replace(0,data_test['MSA'].mean())\n",
    "\n",
    "data['LOAN_AGE']=data['LOAN_AGE'].replace(-1,data['LOAN_AGE'].mean())\n",
    "data_test['LOAN_AGE']=data_test['LOAN_AGE'].replace(-1,data_test['LOAN_AGE'].mean())"
   ]
  },
  {
   "cell_type": "code",
   "execution_count": 4,
   "id": "278ad6fb-fb82-448c-bf4e-7f0e22097a54",
   "metadata": {},
   "outputs": [],
   "source": [
    "#feature engineering\n",
    "\n",
    "#feature extraction\n",
    "numeric_features = data.dtypes[data.dtypes == 'float64'].index\n",
    "object_features = data.dtypes[data.dtypes == 'object'].index\n",
    "numeric_features_test = data_test.dtypes[data_test.dtypes == 'float64'].index\n",
    "object_features_test = data_test.dtypes[data_test.dtypes == 'object'].index\n",
    "\n",
    "#handling categorical/object data - label encoding\n",
    "from sklearn.preprocessing import LabelEncoder\n",
    "LE = LabelEncoder()\n",
    "categorical_features = ['CHANNEL',\n",
    " 'FIRST_TIME_HOME_BUYER_IND',\n",
    " 'LOAN_PURPOSE',\n",
    " 'PROPERTY_TYPE',\n",
    " 'OCCUPANCY_STATUS',\n",
    " 'PROPERTY_STATE']\n",
    "categorical_features_test = ['CHANNEL',\n",
    " 'FIRST_TIME_HOME_BUYER_IND',\n",
    " 'LOAN_PURPOSE',\n",
    " 'PROPERTY_TYPE',\n",
    " 'OCCUPANCY_STATUS',\n",
    " 'PROPERTY_STATE']\n",
    "for col in categorical_features:\n",
    "    data[col] = LE.fit_transform(data[col])\n",
    "for col in categorical_features_test:\n",
    "    data_test[col] = LE.fit_transform(data_test[col])\n",
    "    \n",
    "#handling numeric data - normalization\n",
    "#data[numeric_features] = data[numeric_features].apply(lambda x: (x - x.mean()) / (x.std()))\n",
    "#data_test[numeric_features_test] = data_test[numeric_features_test].apply(lambda x: (x - x.mean()) / (x.std()))"
   ]
  },
  {
   "cell_type": "code",
   "execution_count": 5,
   "id": "c53fc310-a876-4495-a66d-8ce9768e7626",
   "metadata": {},
   "outputs": [],
   "source": [
    "#set splitting - train dataset NMONTHS prediction\n",
    "\n",
    "from sklearn.model_selection import train_test_split\n",
    "X = data.drop(columns = ['FORECLOSURE', 'NMONTHS', 'LOAN_ID'], axis = 1).values\n",
    "y = data['NMONTHS'].values\n",
    "X_train, X_test, y_train, y_test = train_test_split(X, y, test_size = 0.3, random_state = 10)"
   ]
  },
  {
   "cell_type": "code",
   "execution_count": 6,
   "id": "91c62a61-0f23-4923-bca0-efe3ef0bfea5",
   "metadata": {},
   "outputs": [],
   "source": [
    "#model creation: linear regression - NMONTHS\n",
    "\n",
    "from sklearn.linear_model import LinearRegression\n",
    "from sklearn.metrics import mean_absolute_error\n",
    "LR = LinearRegression()\n",
    "LR.fit(X_train, y_train)\n",
    "y_prediction = LR.predict(X_test)"
   ]
  },
  {
   "cell_type": "code",
   "execution_count": 7,
   "id": "9761d3ba-ddbb-4bdb-bda9-eee155df6ee3",
   "metadata": {},
   "outputs": [],
   "source": [
    "#model creation: xgboost regression - NMONTHS\n",
    "\n",
    "import xgboost as xgb\n",
    "XGB = xgb.XGBRegressor()\n",
    "XGB.fit(X_train, y_train)\n",
    "y_prediction_XGB = XGB.predict(X_test)"
   ]
  },
  {
   "cell_type": "code",
   "execution_count": 8,
   "id": "9a57d8ee-4e32-4517-9878-0f44663abbe4",
   "metadata": {},
   "outputs": [
    {
     "name": "stdout",
     "output_type": "stream",
     "text": [
      "NMONTHS linear regression model's r2_score: 0.15945008647805037\n",
      "NMONTHS linear regression model's MAE(Mean Absolute Error): 36.447790677018936\n",
      "NMONTHS linear regression model's MSE(Mean Square Error): 2297.193562369628\n",
      "NMONTHS linear regression model's RMSE(Root Mean Square Error): 47.92904716734548\n",
      "NMONTHS xgboost regression model's r2_score: 0.20701248717965381\n",
      "NMONTHS xgboost regression model's MAE(Mean Absolute Error): 34.26425335583007\n",
      "NMONTHS xgboost regression model's MSE(Mean Square Error): 2167.2071820906\n",
      "NMONTHS xgboost regression model's RMSE(Root Mean Square Error): 46.55327251752126\n"
     ]
    }
   ],
   "source": [
    "#model evaluation: linear regression and xgboost for NMONTHS\n",
    "\n",
    "from sklearn.metrics import mean_squared_error\n",
    "\n",
    "def mae(y_true, predictions):\n",
    "    y_true, predictions = np.array(y_true), np.array(predictions)\n",
    "    return np.mean(np.abs(y_true - predictions))\n",
    "\n",
    "def root_mean_squared_error(actual, predictions):\n",
    "    return np.sqrt(mean_squared_error(actual, predictions))\n",
    "\n",
    "def adjusted_r2_score(actual, predictions, num_pred, num_samples):\n",
    "    n = num_samples\n",
    "    k = num_pred\n",
    "    r2 = r2_score(actual, predictions)\n",
    "    adjusted_r2 = 1 - ((1-r2) * ((n-1)/(n-k-1)))\n",
    "    return adjusted_r2\n",
    "\n",
    "print(\"NMONTHS linear regression model's r2_score:\", LR.score(X_test, y_test))\n",
    "print(\"NMONTHS linear regression model's MAE(Mean Absolute Error):\", mae(y_test, y_prediction))\n",
    "print(\"NMONTHS linear regression model's MSE(Mean Square Error):\",mean_squared_error(y_test, y_prediction))\n",
    "print(\"NMONTHS linear regression model's RMSE(Root Mean Square Error):\",root_mean_squared_error(y_test, y_prediction))\n",
    "\n",
    "print(\"NMONTHS xgboost regression model's r2_score:\", XGB.score(X_test, y_test))\n",
    "print(\"NMONTHS xgboost regression model's MAE(Mean Absolute Error):\", mae(y_test, y_prediction_XGB))\n",
    "print(\"NMONTHS xgboost regression model's MSE(Mean Square Error):\",mean_squared_error(y_test, y_prediction_XGB))\n",
    "print(\"NMONTHS xgboost regression model's RMSE(Root Mean Square Error):\",root_mean_squared_error(y_test, y_prediction_XGB))"
   ]
  },
  {
   "cell_type": "code",
   "execution_count": 9,
   "id": "d640c4a4-cc2f-4a94-b032-2935a631479d",
   "metadata": {},
   "outputs": [],
   "source": [
    "#set splitting - train dataset FORECLOSURE prediction\n",
    "\n",
    "logistic_features = ['ORIGINAL_INTEREST_RATE', 'CURRENT_INTEREST_RATE', 'ORIGINAL_LOAN_TERM', 'REM_MONTHS_LEGAL_MATURITY','REM_MONTHS_MATURITY','LOAN_AGE', 'NUMBER_OF_BORROWERS', 'DTI', 'LTV', 'CLTV', 'B_CREDIT_SCORE_O']\n",
    "X_F = data[logistic_features].values\n",
    "y_F = data['FORECLOSURE'].values\n",
    "X_train_F, X_test_F, y_train_F, y_test_F = train_test_split(X_F, y_F, test_size = 0.2, random_state = 10)"
   ]
  },
  {
   "cell_type": "code",
   "execution_count": 10,
   "id": "8233eeea-7dd1-4a5a-a736-5fdebc8d7cac",
   "metadata": {},
   "outputs": [
    {
     "name": "stderr",
     "output_type": "stream",
     "text": [
      "/Users/jiangxingnandecomputer/opt/anaconda3/lib/python3.9/site-packages/sklearn/linear_model/_logistic.py:814: ConvergenceWarning: lbfgs failed to converge (status=1):\n",
      "STOP: TOTAL NO. of ITERATIONS REACHED LIMIT.\n",
      "\n",
      "Increase the number of iterations (max_iter) or scale the data as shown in:\n",
      "    https://scikit-learn.org/stable/modules/preprocessing.html\n",
      "Please also refer to the documentation for alternative solver options:\n",
      "    https://scikit-learn.org/stable/modules/linear_model.html#logistic-regression\n",
      "  n_iter_i = _check_optimize_result(\n"
     ]
    }
   ],
   "source": [
    "#model creation: logistic regression - FORECLOSURE\n",
    "\n",
    "from sklearn.linear_model import LogisticRegression\n",
    "logreg = LogisticRegression(random_state=20)\n",
    "logreg.fit(X_train_F, y_train_F)\n",
    "y_prediction_F_prob = logreg.predict_proba(X_test_F)\n",
    "threshold=data['FORECLOSURE'].sum()/len(data)\n",
    "y_prediction_F = pd.Series(y_prediction_F_prob[:,1] > threshold * 2.85)"
   ]
  },
  {
   "cell_type": "code",
   "execution_count": 11,
   "id": "cd177d0a-00c8-41f7-8de5-49e7e1d9be3b",
   "metadata": {},
   "outputs": [
    {
     "name": "stdout",
     "output_type": "stream",
     "text": [
      "FORECLOSURE logistic regression model's r2_score: 0.97716\n",
      "FORECLOSURE logistic regression model's MAE(Mean Absolute Error): 0.02284\n",
      "FORECLOSURE logistic regression model's MSE(Mean Square Error): 0.02284\n",
      "FORECLOSURE logistic regression model's RMSE(Root Mean Square Error): 0.1511290838985005\n"
     ]
    }
   ],
   "source": [
    "#model evaluation: logistic regression for FORECLOSURE\n",
    "\n",
    "print(\"FORECLOSURE logistic regression model's r2_score:\", logreg.score(X_test_F, y_test_F))\n",
    "print(\"FORECLOSURE logistic regression model's MAE(Mean Absolute Error):\", mae(y_test_F, logreg.predict(X_test_F)))\n",
    "print(\"FORECLOSURE logistic regression model's MSE(Mean Square Error):\",mean_squared_error(y_test_F, logreg.predict(X_test_F)))\n",
    "print(\"FORECLOSURE logistic regression model's RMSE(Root Mean Square Error):\",root_mean_squared_error(y_test_F, logreg.predict(X_test_F)))"
   ]
  },
  {
   "cell_type": "code",
   "execution_count": 12,
   "id": "fa23baa7-2d9b-4cb6-a38a-c18990748154",
   "metadata": {},
   "outputs": [],
   "source": [
    "#save data to local machine as .csv file\n",
    "\n",
    "save_y_test = pd.Series(XGB.predict(data_test.drop(columns = ['LOAN_ID'], axis = 1)), name='NMONTHS').tolist()\n",
    "save_NMONTHS = []\n",
    "for item in save_y_test:\n",
    "    save_NMONTHS.append(round(item, 3))\n",
    "save_ID = pd.Series(data_test['LOAN_ID'] ,name='ID').tolist()\n",
    "save_data = pd.DataFrame(\n",
    "    {'LOAN_ID': save_ID,\n",
    "     'NMONTHS': save_NMONTHS\n",
    "    })\n",
    "save_data.to_csv('/Users/jiangxingnandecomputer/Desktop/NMONTHS_pred.csv', index=False)\n",
    "\n",
    "y_prediction_F_prob = logreg.predict_proba(data_test[logistic_features].values)\n",
    "y_prediction_F = pd.Series(y_prediction_F_prob[:,1] > 0.11644).tolist()\n",
    "y_prediction_prob_F = pd.Series(y_prediction_F_prob[:,1]).tolist()\n",
    "answer_list = []\n",
    "for i in y_prediction_F:\n",
    "    answer_list.append(int(i))\n",
    "save_data_F = pd.DataFrame(\n",
    "    {'LOAN_ID': save_ID,\n",
    "     'FORECLOSURE': answer_list,\n",
    "     'NMONTHS': save_NMONTHS\n",
    "    })\n",
    "save_data_F.to_csv('/Users/jiangxingnandecomputer/Desktop/FORECLOSURE_pred.csv', index=False)"
   ]
  },
  {
   "cell_type": "code",
   "execution_count": null,
   "id": "bd2fb6e5-c4bf-431d-ac40-02e46a78f265",
   "metadata": {},
   "outputs": [],
   "source": []
  }
 ],
 "metadata": {
  "kernelspec": {
   "display_name": "env",
   "language": "python",
   "name": "python3"
  },
  "language_info": {
   "codemirror_mode": {
    "name": "ipython",
    "version": 3
   },
   "file_extension": ".py",
   "mimetype": "text/x-python",
   "name": "python",
   "nbconvert_exporter": "python",
   "pygments_lexer": "ipython3",
   "version": "3.9.6"
  },
  "vscode": {
   "interpreter": {
    "hash": "f7e006aa568cdbfcce032949b31b9ca56460ce19e8ccdae1ebced40b31216f42"
   }
  }
 },
 "nbformat": 4,
 "nbformat_minor": 5
}
