{
 "cells": [
  {
   "cell_type": "markdown",
   "id": "e912309d-ce7f-49f5-be1f-a5e625a724ca",
   "metadata": {},
   "source": [
    "**Instructions**\n",
    "\n",
    "The usual instructions apply about literal assignments.\n",
    "\n",
    "In addition, please do not remove or modify the comments that appear in cells like:\n",
    "\n",
    "> \\# Code cell for Problem X\n",
    "\n",
    "> \\# Literal assignment cell for Problem X"
   ]
  },
  {
   "cell_type": "markdown",
   "id": "e6a51d71-6ac4-4b70-92f5-7a15bcf92bc8",
   "metadata": {},
   "source": [
    "**Binary trees for generating discrete random variables**\n",
    "\n",
    "Suppose we are given a discrete distribution, specified by a  vector of probabilities \n",
    "\n",
    "$$\n",
    "p=(p_0,p_1,\\ldots,p_{n-1})\n",
    "$$\n",
    "\n",
    "where $p_i>0$ and $\\sum_{i=0}^{n-1} p_i = 1.$\n",
    "\n",
    "We want to generate a random variable $X$ such that \n",
    "\n",
    "$$\n",
    "P[X=i] = p_i, \\mbox{ for } i=0,\\ldots,n-1.\n",
    "$$\n",
    "\n",
    "One method for doing this is to break up the unit interval into $n$ intervals:\n",
    "\n",
    "$$I_0 = [0,p_0)$$\n",
    "$$I_1=[p_0,p_0+p_1)$$\n",
    "$$\\vdots$$\n",
    "$$I_{n-2} = [p_0+p_1+\\ldots+p_{n-3},p_0+p_1+\\ldots+p_{n-2})$$\n",
    "$$I_{n-1} = [p_0+p_1+\\ldots+p_{n-2},1]$$\n",
    "\n",
    "Generate $U \\sim \\mbox{Uniform}(0,1)$ and take $X=i$ if $U$ lands in $I_i.$\n",
    "\n",
    "There are a couple of reasons why this might not be so effective. \n",
    "\n",
    "First, deciding which interval $U$ lands in might be slow to determine.\n",
    "\n",
    "Second, some of these intervals might be quite small in some cases and the RNG might not be very good at generating random variables with correct probabilities for small intervals.\n",
    "\n",
    "**A test of the RNG**\n",
    "\n",
    "If the distribution of $U$ is truly Uniform$(0,1)$ and $m$ is any positive integer, then it should be the case that $mU$ us uniformly distributed in $(0,m)$ and so the fractional part of $mU$ i.e. \n",
    "\n",
    "$$\n",
    "V = mU - \\lfloor mU \\rfloor\n",
    "$$\n",
    "\n",
    "should be distributed as Uniform$(0,1).$"
   ]
  },
  {
   "cell_type": "markdown",
   "id": "de606e00-4fcd-41b5-9e37-251e3d982907",
   "metadata": {},
   "source": [
    "**Getting a histogram for a numpy array**\n",
    "\n",
    "We can get a histogram of a numpy array using the pandas package.\n",
    "\n",
    "We convert our numpy array to a pandas Series object and use the hist method.\n",
    "\n",
    "Here is an example."
   ]
  },
  {
   "cell_type": "code",
   "execution_count": 9,
   "id": "f4c5c775-0437-454d-9bab-75098825851d",
   "metadata": {},
   "outputs": [
    {
     "data": {
      "text/plain": [
       "<AxesSubplot:>"
      ]
     },
     "execution_count": 9,
     "metadata": {},
     "output_type": "execute_result"
    },
    {
     "data": {
      "image/png": "[encoded data removed]",
      "text/plain": [
       "<Figure size 432x288 with 1 Axes>"
      ]
     },
     "metadata": {
      "needs_background": "light"
     },
     "output_type": "display_data"
    }
   ],
   "source": [
    "import numpy as np\n",
    "import pandas as pd\n",
    "\n",
    "u=np.random.uniform(0,1,100000)\n",
    "x=-np.log(u)\n",
    "pd.Series(x).hist(bins=100)"
   ]
  },
  {
   "cell_type": "markdown",
   "id": "5383751f-2bde-4fd9-b3df-61399bc39373",
   "metadata": {},
   "source": [
    "In the cell below, we generate 1.000,000 uniform random variables and try plotting a histogram of \n",
    "\n",
    "$$\n",
    "X = 2^m U - \\lfloor 2^m U \\rfloor\n",
    "$$\n",
    "\n",
    "for large values of $m.$\n",
    "\n",
    "Do the plot below for $m=40,41,42,\\ldots,52$ to see how the RNG produces data that do not appear to be Uniform$(0,1)$ if $m$ is sufficiently large."
   ]
  },
  {
   "cell_type": "code",
   "execution_count": 10,
   "id": "a123d912-5eab-48bb-85d0-7bf9c22f7fcf",
   "metadata": {},
   "outputs": [
    {
     "data": {
      "text/plain": [
       "<AxesSubplot:>"
      ]
     },
     "execution_count": 10,
     "metadata": {},
     "output_type": "execute_result"
    },
    {
     "data": {
      "image/png": "[encoded data removed]",
      "text/plain": [
       "<Figure size 432x288 with 1 Axes>"
      ]
     },
     "metadata": {
      "needs_background": "light"
     },
     "output_type": "display_data"
    }
   ],
   "source": [
    "import numpy as np\n",
    "import pandas as pd\n",
    "U=np.random.uniform(0,1,1000000)\n",
    "X=(2**40)*U\n",
    "pd.Series(X-np.floor(X)).hist(bins=100)"
   ]
  },
  {
   "attachments": {
    "1bd7d2d5-ffc2-4297-b7f8-08d7acd3b537.png": {
     "image/png": "[encoded data removed]"
    }
   },
   "cell_type": "markdown",
   "id": "908f8e29-b3a3-4fe9-a844-95e5dc22957f",
   "metadata": {},
   "source": [
    "**Using binary trees to sample a discrete distribution**\n",
    "\n",
    "Given a distribution, we can use a binary tree to generate $X.$\n",
    "\n",
    "To illustrate, suppose we take our probabilities to be \n",
    "\n",
    "p = [05, .07, .16, .18, .25, .29]\n",
    "\n",
    "We can define a binary tree for generating a random variable $X$ according to this distribution shown here:\n",
    "\n",
    "![TreeFig.png](attachment:1bd7d2d5-ffc2-4297-b7f8-08d7acd3b537.png)\n",
    "\n",
    "To use this tree, we start at the root node. Given that we reach a node that has children, we \n",
    "\n",
    "- generate a new uniform random variable $U$ independent of all previously generated random variables\n",
    "- we use $U$ to decide which child to move to\n",
    "- the edges are labeled with conditional probabilities of a move to a left or right child, given that we reach the current node\n",
    "- if $U$ is less than the left probability, we move to the left child and otherwise we go to the right child\n",
    "\n",
    "Once we reach a leaf node, we define $X$ to be the label (shown in red) at the leaf.\n",
    "\n",
    "Convince yourself that this random variable's distribution is given by the probability vector $p.$"
   ]
  },
  {
   "cell_type": "markdown",
   "id": "a30fabb6-6be6-44ee-b1db-224d8a19caf4",
   "metadata": {},
   "source": [
    "**Problem 1 (5 points)**\n",
    "\n",
    "If we generate a random variable $X$ using the algorithm described above, let $N$ denote the (random) number of times we generate a uniform random variable. Calculate the expected value of $N.$\n",
    "\n",
    "Use the following cell for your work and in the subsequent literal assignment cell, assign your answer as a literal float to the variable called **EN1**.\n",
    "\n",
    "The usual rules apply to literal assignments - this variable should only be assigned a value in literal assignment cell and nowhere else in your notebook.\n",
    "\n",
    "Note - you should be able to get an answer **analytically** i.e. **without using Monte-Carlo simulation.**"
   ]
  },
  {
   "cell_type": "code",
   "execution_count": 11,
   "id": "5e70518d-5035-466f-b5af-0bc8d7e72789",
   "metadata": {},
   "outputs": [
    {
     "name": "stdout",
     "output_type": "stream",
     "text": [
      "EN1= 2.57\n"
     ]
    }
   ],
   "source": [
    "EN1_es = (1 * 0.29) + \\\n",
    "         (2 * 0.71 * 25/71) + \\\n",
    "         (3 * 0.71 * 46/71 * 18/46) + \\\n",
    "         (4 * 0.71 * 46/71 * 28/46 * 16/28) + \\\n",
    "         (5 * 0.71 * 46/71 * 28/46 * 12/28 * 7/12) + \\\n",
    "         (5 * 0.71 * 46/71 * 28/46 * 12/28 * 5/12)\n",
    "\n",
    "print('EN1=', round(EN1_es, 3))    "
   ]
  },
  {
   "cell_type": "code",
   "execution_count": 12,
   "id": "75dc4efc-1cec-42ca-aee7-18bbf0a86eab",
   "metadata": {},
   "outputs": [],
   "source": [
    "# Literal assignment cell for Problem 1.\n",
    "EN1= 2.57"
   ]
  },
  {
   "attachments": {
    "32f4d3bc-afe8-488a-b8d3-a91f4c707e9f.PNG": {
     "image/png": "[encoded data removed]"
    }
   },
   "cell_type": "markdown",
   "id": "02b224c7-d520-45ab-b6f0-ed8687434fec",
   "metadata": {},
   "source": [
    "**An alternative tree**\n",
    "\n",
    "Here is another tree that can be used to accomplish the same task.\n",
    "\n",
    "![TreeFig2.PNG](attachment:32f4d3bc-afe8-488a-b8d3-a91f4c707e9f.PNG)\n",
    "\n",
    "Convince yourself that if this tree is used in the manner described, we get a random variable $X$ with the same distribution as the one in Problem 1.\n",
    "\n",
    "**Problem 2 (5 points)**\n",
    "\n",
    "If we generate a random variable $X$ using the algorithm described above, but using this new tree let $N$ denote the (random) number of times we generate a uniform random variable. Calculate the expected value of $N.$\n",
    "\n",
    "Use the following cell for your work and in the subsequent literal assignment cell, assign your answer as a literal float to the variable called **EN2**.\n",
    "\n",
    "The usual rules apply to literal assignments - this variable should only be assigned a value in literal assignment cell and nowhere else in your notebook.\n",
    "\n",
    "Note - you should be able to get an answer **analytically**."
   ]
  },
  {
   "cell_type": "code",
   "execution_count": 13,
   "id": "17ac4854-7c14-4e0f-b6ba-a9fcfd1e924f",
   "metadata": {},
   "outputs": [
    {
     "name": "stdout",
     "output_type": "stream",
     "text": [
      "EN2= 2.4\n"
     ]
    }
   ],
   "source": [
    "# Code cell for Problem 2\n",
    "\n",
    "EN2_es = (2 * 0.57 * 29/57) + \\\n",
    "         (2 * 0.43 * 25/43) + \\\n",
    "         (2 * 0.43 * 18/43) + \\\n",
    "         (3 * 0.57 * 28/57 * 16/28) + \\\n",
    "         (4 * 0.57 * 28/57 * 12/28 * 7/12) + \\\n",
    "         (4 * 0.57 * 28/57 * 12/28 * 5/12)\n",
    "\n",
    "print('EN2=', round(EN2_es, 3)) "
   ]
  },
  {
   "cell_type": "code",
   "execution_count": 14,
   "id": "569517f5-c8fd-4100-9d5e-f81552c0b6ad",
   "metadata": {},
   "outputs": [],
   "source": [
    "# Literal assignment cell for Problem 2.\n",
    "EN2= 2.4"
   ]
  },
  {
   "cell_type": "markdown",
   "id": "3af4fd2d-ac92-49b0-956c-b3823d09e7ce",
   "metadata": {},
   "source": [
    "**Optimal tree problem**\n",
    "\n",
    "For a general discrete distribution defined by a probability vector\n",
    "\n",
    "$$\n",
    "p=[p_0,p_1,\\ldots,p_{n-1}]\n",
    "$$\n",
    "\n",
    "where $p_i>0$ and $\\sum_{i=0}^{n-1} p_i=1,$ and where the probabilities are in no particular order.\n",
    "\n",
    "\n",
    "We can consider all binary trees with the \n",
    "property that\n",
    "\n",
    "- the tree has $n$ leaves labelled $0,1,\\ldots,n-1$\n",
    "- for every internal node\n",
    "    - it has exactly two children\n",
    "    - the edges connecting the node to its children have positive probabilities summing to 1\n",
    "- if we traverse the tree as above, generating a Uniform$(0,1)$ every time we visit an internal node, then the probability we land at leaf labelled $i$ is $p_i.$\n",
    "\n",
    "and among all such trees, we want to find the one for which $E[N]$ is minimized, where $N$ denotes the number of times we need to sample a uniform random variable. \n",
    "\n",
    "**Optimal tree construction**\n",
    "\n",
    "\n",
    "To create an optimal tree we use the following construction. We maintain a **list of trees** that we modify one step at a time until that list only has one tree.\n",
    "\n",
    "Each node in every trees has an associated label and a probability.\n",
    "\n",
    "We never delete a node, and we never remove any existing parent/child connectons between nodes. But we do **add** additional nodes and make existings pairs of nodes the children of an added node. \n",
    "\n",
    "We initialize our tree list to consist of $n$ trees. The $i$-th tree in our list\n",
    "\n",
    "- has a single (root) node with label $i$ and probability $p_i.$\n",
    "\n",
    "So our starting list is:\n",
    "\n",
    "$(0,p_0),(1,p_1),\\ldots,(n-1,p_{n-1})$\n",
    "\n",
    "At each step when we modify the tree list, we \n",
    "\n",
    "- pick two trees $t$ and $t'$ in the current list whose associated **root node probabilities $q$ and $q'$ are smallest**. (In the case of ties, we arbitrartily pick any two that give minimal values.)\n",
    "    - call the root nodes of those trees $n$ and $n'$\n",
    "- create a new node $n''$ with \n",
    "    - a new label (increment the largest existing node label by 1)\n",
    "    - probability equal to $q+q'$\n",
    "- define a new tree $t''$ that has $n''$ as its root node and $n$ and $n'$ as children (so we are attaching two trees)\n",
    "    - assign probability $q/(q+q')$ to the edge connecting $n''$ to $n$\n",
    "    - assign probability $q'/(q+q')$ to the edge connecting $n''$ to $n'$\n",
    "- add $t''$ to the tree list and remove $t$ and $t'$ \n",
    "    - so the number of trees in the tree list is reduced by 1\n",
    "\n",
    "\n",
    "**Note.** We don't really need to assign probabilities to edges. I did that to connect with what we did in the examples above. Instead, \n",
    "\n",
    "- we refer to one of the children of a parent node as a left child and the other as a right child, and \n",
    "- store the probability of going to the left child $pL$ in the parent node.\n"
   ]
  },
  {
   "cell_type": "markdown",
   "id": "783d24a6-b53a-4298-ba4e-daa69956b741",
   "metadata": {},
   "source": [
    "**Illustrative example**\n",
    "\n",
    "In the example above, we start a tree list of 6 trees each of which only has a root node.\n",
    "\n",
    "t0: (0,.05) <br/>\n",
    "t1: (1,.07) <br/>\n",
    "t2: (2,.16) <br/>\n",
    "t3: (3,.18) <br/>\n",
    "t4: (4,.25) <br/>\n",
    "t5: (5,.29) <br/>\n",
    "\n",
    "t0 and t1 have minimal probabilities .05 and .07 so we \n",
    "\n",
    "- define a new node (6,.05+.07=.12), \n",
    "- make this the root node of a tree t6 with root nodes of t0 and t1 its children\n",
    "- add t6 to the list and remove nodes t0 and t1 from the list\n",
    "\n",
    "Our tree list becomes\n",
    "\n",
    "t2: (2,.16) <br/>\n",
    "t3: (3,.18) <br/>\n",
    "t4: (4,.25) <br/>\n",
    "t5: (5,.29) <br/>\n",
    "t6: (6,.12) <br/>\n",
    "\n",
    "t2 and t6 have minimal probabilities .16 and .12 so we \n",
    "\n",
    "- define a new node (7,.28) \n",
    "- make this the root node of a tree t7 with root nodes of t2 and t6 its children\n",
    "- add t7 to the list and remove node t2 and t6 from the list\n",
    "\n",
    "Our tree list becomes\n",
    "\n",
    "t3: (3,.18) <br/>\n",
    "t4: (4,.25) <br/>\n",
    "t5: (5,.29) <br/>\n",
    "t7: (7,.28) <br/>\n",
    "\n",
    "t3 and t4 have minimal probabilities .18 and .25 so we \n",
    "\n",
    "- define a new node (8,.43) \n",
    "- make this the root node of a tree t8 with the roots nodes of t3 and t4 its children\n",
    "- add t8 to the list and remove t3 and t4 from the list\n",
    "\n",
    "Our tree list becomes\n",
    "\n",
    "t5: (5,.29) <br/>\n",
    "t7: (7,.28) <br/>\n",
    "t8: (8,.43) <br/>\n",
    "\n",
    "\n",
    "t5 and t7 have minimal probabilities .29 and .28 so we \n",
    "\n",
    "- define a new node (9,.57) \n",
    "- make this the root node of a tree t9 with the roots of t5 and t7 as its children\n",
    "- add t9 to the list and remove t5 and t7 from the list\n",
    "\n",
    "Our tree list becomes\n",
    "\n",
    "t8: (8,.43) <br/>\n",
    "t9: (9,.57) <br/>\n",
    "\n",
    "Now we only have two probabilities. We\n",
    "\n",
    "- define a new node (10,1.0) \n",
    "- make this the root node of our final tree with children being the root nodes of t8 and t9.\n",
    "\n",
    "\n",
    "**Make sure that you understand how this process produces the \"alternative tree\"\n",
    "given above.**"
   ]
  },
  {
   "cell_type": "markdown",
   "id": "009d48a4-627a-4955-95fb-79d4ca83e639",
   "metadata": {},
   "source": [
    "Our goal is to write a program that takes as input a probability vector **pvec** (a numpy array of positive probabilities summing to 1), and builds a tree for sampling the distribution defined by that array. Here, the output should be a vector $X$ such that \n",
    "\n",
    "> P[X=i] = pvec[i], for i=0,1,...,len(p)-1.\n",
    "\n",
    "To complete this assignment, you need to use a node class starting with the one below.\n",
    "\n",
    "An instance of a node will need the following attributes\n",
    "- a label\n",
    "- a probability p\n",
    "- two children (optionally) and if so \n",
    "    - left_child node\n",
    "    - right_child node\n",
    "    - pL = the probability of going to the left child if we arrive at the parent node\n",
    "\n",
    "The situation is a bit different from building a binary decision tree from the root node down - here, we start with leaves and build up from through merging.\n",
    "\n",
    "Note\n",
    "\n",
    "- We will never need to explicitly determine who the parent of a child is as we build the tree (we create a parent and make two nodes into their children).\n",
    "\n",
    "- Also when use the tree to generate a random variable $X$ we only need to know whether a current node has children, and who those children are.\n",
    " \n",
    "So **we don't need to give nodes a parent attribute.**"
   ]
  },
  {
   "cell_type": "markdown",
   "id": "f9cc7325-3895-44dd-a012-9e32bc1f200e",
   "metadata": {},
   "source": [
    "**The node class**\n",
    "\n",
    "To complete this assignment, use the node class in the following cell.\n",
    "\n",
    "It has \n",
    "\n",
    "- a constructor \n",
    "\n",
    "and some helper functions:\n",
    "\n",
    "- **display** method for displaying the tree with argument being the root node\n",
    "\n",
    "- **__str__** method to stringify the tree with argument being the root node \n",
    "\n",
    "- **write** method for writing out a tree to a file with argument being the root node\n",
    "\n",
    "- **read** for reading from a file that the write method was used to write a tree to a file, create a tree with the same properties and return its root node \n",
    "\n",
    "At a future time, you will be asked to modify this class to put nodes into a priority queue.\n",
    "\n",
    "**Make sure you only have the node class defined in the following cell and nowhere else in this notebook**"
   ]
  },
  {
   "cell_type": "code",
   "execution_count": 15,
   "id": "73a69e2a-ff7c-4927-9811-0dfa693c3520",
   "metadata": {},
   "outputs": [],
   "source": [
    "import queue\n",
    "import numpy as np\n",
    "import pandas as pd\n",
    "\n",
    "class Node:\n",
    "    def __init__(self,left_child=None,right_child=None,label=None,p=None,pL=None):\n",
    "        self.left_child=left_child\n",
    "        self.right_child=right_child\n",
    "        self.label=label\n",
    "        self.p=p\n",
    "        self.pL=pL\n",
    "        \n",
    "    def display(self,indent=\"\"):\n",
    "        if self.pL!=None:\n",
    "            st=indent+\"{0:5d}:{1:8.6f} {2:6.3f}\".format(self.label,self.p,self.pL)\n",
    "        else:\n",
    "            st=indent+\"{0:5d}:{1:8.6f} LEAF\".format(self.label,self.p)\n",
    "        print(st)\n",
    "        if self.left_child!=None:\n",
    "            indent=indent+\"  \"\n",
    "            self.left_child.display(indent)\n",
    "            self.right_child.display(indent)\n",
    "\n",
    "    def __str__(self):\n",
    "        st=str(self.label)+\",\"+\"{0:25.23f}\".format(self.p)+\",\"\n",
    "        if self.left_child!=None:\n",
    "            st+=str(self.left_child.label)+\",\"+str(self.right_child.label)+\",\"+\"{0:25.23f}\".format(self.pL)+\"\\n\"\n",
    "        else:\n",
    "            st+=\"None,None,None\\n\"\n",
    "        if self.left_child!=None:\n",
    "            st+=str(self.left_child)\n",
    "            st+=str(self.right_child)\n",
    "        return(st)   \n",
    "    \n",
    "    def write(self,fileid):\n",
    "        with open(fileid,\"w\") as fout:\n",
    "            fout.write(str(self))\n",
    "    def __lt__(self, other):\n",
    "        a = self.p\n",
    "        b = other.p\n",
    "        if a <= b:\n",
    "            return True\n",
    "        return False\n",
    "    \n",
    "            \n",
    "# Note that this is not a class function\n",
    "def read(fileid):\n",
    "    L=[]\n",
    "    with open(fileid,\"r\") as fin:\n",
    "        lines=[]\n",
    "        for line in fin:\n",
    "            line=line.replace(\"\\n\",\"\")\n",
    "            L.append(line.split(\",\"))\n",
    "    n=len(L)\n",
    "    nodelist=[Node(None,None,i,None,None) for i in range(n)]\n",
    "    for i in range(n):\n",
    "        x=L[i]\n",
    "        label=int(x[0])\n",
    "        nodelist[label].p=float(x[1])\n",
    "        if x[2]!=\"None\":\n",
    "            nodelist[label].left_child=nodelist[int(x[2])]\n",
    "            nodelist[label].right_child=nodelist[int(x[3])]\n",
    "            nodelist[label].pL=float(x[4])\n",
    "    return(nodelist[n-1])       "
   ]
  },
  {
   "cell_type": "markdown",
   "id": "e8764bd3-e00c-4f6b-bb96-3febb8fa8a6b",
   "metadata": {},
   "source": [
    "**Problem 3 (5 points)**\n",
    "\n",
    "Write a function called **combine_two_trees** that takes as arguments:\n",
    "\n",
    "- **root_node1** = the root node for a first binary tree\n",
    "- **root_node2** = the root node for a second binary tree\n",
    "- **label** = label to give to root node of combined tree\n",
    "\n",
    "and outputs \n",
    "\n",
    "- **root_node** = the root node of a new tree that has \n",
    "    - root_node1 as its left child\n",
    "    - root_node2 as its right child\n",
    "    - p = sum of root_node1 and root_node2's probabilities\n",
    "    - pL=root_node1 probability/p\n",
    "    - the given label\n",
    "\n",
    "Your code should not be a class function, i.e. make it a standalone function."
   ]
  },
  {
   "cell_type": "code",
   "execution_count": 16,
   "id": "41e695fd-bc06-4ef9-a322-9afa89e52cdd",
   "metadata": {},
   "outputs": [],
   "source": [
    "# Code cell for Problem 3\n",
    "def combine_two_trees(root_node1,root_node2,label):\n",
    "    #init\n",
    "    root_node = Node( label = label )\n",
    "    \n",
    "    #left and right child\n",
    "    root_node.right_child = root_node2\n",
    "    root_node.left_child = root_node1\n",
    "    \n",
    "    root_node.p = root_node2.p + root_node1.p\n",
    "    root_node.pL = root_node1.p / root_node.p\n",
    "    \n",
    "    \n",
    "    return root_node"
   ]
  },
  {
   "cell_type": "markdown",
   "id": "24a22012-f28b-4c38-b5b7-145a9ee8551f",
   "metadata": {},
   "source": [
    "**Problem 4 (5 points)**\n",
    "\n",
    "Write a function called **create_tree** that takes as input\n",
    "\n",
    "**pvec** = a 1-d numpy array of probabilities\n",
    "\n",
    "and that \n",
    "\n",
    "- creates an optimal tree (as described above) that can be used to generate a random variable distributed according to pvec, \n",
    "\n",
    "and\n",
    "\n",
    "- returns the **root node** of the constructed tree\n",
    "\n",
    "We'll call such a tree (which we identify by its root node)  an **(optimal) discrete random variable generating tree.**\n",
    "\n",
    "Here's an outline of what you need to do inside your create_tree function:\n",
    "\n",
    "- Define a priority queue to store the current list of trees \n",
    "\n",
    "    - each tree is represented by its root node so the queue consists of a collection of nodes\n",
    "    \n",
    "- Initizalize a collection of leaf nodes with the pvec probabilities and labels 0,1,... (these should be ints!) and put these into the priority queue\n",
    "\n",
    "- Define a variable that keeps track of the most recent label used, so that when a new label is needed, we increment that variable by 1 and use it.\n",
    "\n",
    "- Create a loop in which, as long as the priority queue has at least two trees in it, we\n",
    "\n",
    "    - remove two nodes from the queue whose probabilities p1, p2 are minimal **and with p1<=p2.** \n",
    "    - create a new node with \n",
    "        - those two nodes as left and right children \n",
    "        - probability p1+p2\n",
    "        - pL=p1/(p1+p2)\n",
    "        - a new unused label\n",
    "    - put that new node in the queue\n",
    "\n",
    "- Once the priority queue has only one tree in it, return it (return the root node).\n",
    "\n",
    "**Important:** Outside the create_tree function you will need to modify the node class above so that we when we pop a tree from the priority queue we get a tree with minimal p at its root. **Please modify the node class in the cell above so that there is only one class definition in the entire node book.**"
   ]
  },
  {
   "cell_type": "code",
   "execution_count": 21,
   "id": "2985350c-5d58-44b2-8b1a-6bcf67d0cab7",
   "metadata": {},
   "outputs": [],
   "source": [
    "# Code cell for Problem 4\n",
    "from queue import PriorityQueue\n",
    "def create_tree(pvec):\n",
    "\n",
    "    PQ = queue.PriorityQueue()\n",
    "    root_node = Node( label = 0, p = 0 )\n",
    "    for i, j in enumerate(pvec):\n",
    "        PQ.put( Node( label = i, p = j ) ) \n",
    "    \n",
    "    L = len(pvec) \n",
    "        \n",
    "    #generate tree\n",
    "    while True:\n",
    "        node_1 = PQ.get()\n",
    "        node_2 = PQ.get()\n",
    "        temp = combine_two_trees(node_1, node_2, L)\n",
    "        L += 1\n",
    "        PQ.put(temp)\n",
    "        if PQ.qsize() == 1:\n",
    "            root_node = PQ.queue[0]\n",
    "            break\n",
    "    \n",
    "    return(root_node)"
   ]
  },
  {
   "cell_type": "markdown",
   "id": "8ae71954-f149-473d-a902-efd52e0e6b04",
   "metadata": {},
   "source": [
    "**Execute the following cell and see if what you get is correct.**"
   ]
  },
  {
   "cell_type": "code",
   "execution_count": 22,
   "id": "edc85a50-00ce-4b03-94b0-fc712e43f737",
   "metadata": {},
   "outputs": [
    {
     "name": "stdout",
     "output_type": "stream",
     "text": [
      "10,1.00000000000000000000000,8,9,0.42999999999999999333866\n",
      "8,0.42999999999999999333866,3,4,0.41860465116279066410954\n",
      "3,0.17999999999999999333866,None,None,None\n",
      "4,0.25000000000000000000000,None,None,None\n",
      "9,0.57000000000000006217249,7,5,0.49122807017543856922259\n",
      "7,0.28000000000000002664535,6,2,0.42857142857142854763808\n",
      "6,0.12000000000000000943690,0,1,0.41666666666666662965923\n",
      "0,0.05000000000000000277556,None,None,None\n",
      "1,0.07000000000000000666134,None,None,None\n",
      "2,0.16000000000000000333067,None,None,None\n",
      "5,0.28999999999999998001599,None,None,None\n",
      "\n"
     ]
    }
   ],
   "source": [
    "# Do not modify this cell.\n",
    "pvec=np.array([.05,.07,.16,.18,.25,.29])\n",
    "rnode=create_tree(pvec)\n",
    "print(rnode)"
   ]
  },
  {
   "cell_type": "markdown",
   "id": "a2dbb13c-2c73-4f9f-8e9c-d2442b9f30ee",
   "metadata": {},
   "source": [
    "**Problem 5 (5 points)**\n",
    "\n",
    "The file \"discrete_distribution.txt\" contains 1000 rows that define a discrete probability distribution (p[0] in the 0'th row, p[1] in the 1'th row ... p[999] in the 999-th row.\n",
    "\n",
    "Read the values from this file into a 1-d numpy array of length 1000, run your\n",
    "create_tree function with the array as the argument. \n",
    "\n",
    "Next, starting at the root node, go to its left child node, then to that node's right child node, then to that node's left child node, etc., repeatedly going left, then right over and over until arriving at a leaf node.\n",
    "\n",
    "Once a leaf node is reached, in the subsequent literal assignment cell, assign to variables:\n",
    "\n",
    "**leaf_node_label5** - the label of the node arrived at\n",
    "\n",
    "**length_of_path5** - the number of edges along the path from root node to the leaf node arrived at\n",
    "\n",
    "Use the following cell for your code."
   ]
  },
  {
   "cell_type": "code",
   "execution_count": 23,
   "id": "d1a34cbd-15d0-4ead-b85c-158780e47e52",
   "metadata": {},
   "outputs": [
    {
     "name": "stdout",
     "output_type": "stream",
     "text": [
      "leaf_node_label5= 571\n",
      "length_of_path5= 12\n"
     ]
    }
   ],
   "source": [
    "# Code cell for Problem 5\n",
    "\n",
    "root_page = np.loadtxt('discrete_distribution.txt') \n",
    "\n",
    "count = 0\n",
    "text_node = create_tree(root_page)\n",
    "\n",
    "while text_node.left_child is not None:\n",
    "    \n",
    "    #decision\n",
    "    if count % 2 == 1:\n",
    "        text_node = text_node.right_child\n",
    "    elif count % 2 == 0:\n",
    "        text_node = text_node.left_child\n",
    "    \n",
    "    count += 1\n",
    "\n",
    "label_5 = text_node.label\n",
    "\n",
    "print(\"leaf_node_label5=\", label_5)\n",
    "print(\"length_of_path5=\", count)"
   ]
  },
  {
   "cell_type": "code",
   "execution_count": 24,
   "id": "3034f4cf-0ca3-42a4-ba20-f221b47c6e39",
   "metadata": {},
   "outputs": [],
   "source": [
    "# Literal assignment cell for Problem 5\n",
    "leaf_node_label5= 571\n",
    "length_of_path5= 12"
   ]
  },
  {
   "cell_type": "markdown",
   "id": "a3979f84-2a2e-45df-8708-91fab8aa3ab0",
   "metadata": {},
   "source": [
    "**Problem 6 (5 points)**\n",
    "\n",
    "Write a function called **generate** that takes as input \n",
    "\n",
    "**rnode** = root node for a *discrete random variable generating* tree \n",
    "\n",
    "and outputs a pair **N,X** where\n",
    "\n",
    "**N** = the number of times a uniform random number was generated, and\n",
    "\n",
    "**X** = the label obtained when arriving at a leaf\n",
    "\n",
    "when the following algorithm is implemented:\n",
    "\n",
    "- start at the root node\n",
    "- once a node is arrived at\n",
    "    - if node has no children (i.e. node is a leaf node) \n",
    "        - return **N, X** where\n",
    "            - **N** = number of times a uniform random variable was generated      i.e. the length of the path from the root node to the leaf\n",
    "            - **X** = the value of the label at the node\n",
    "    - if node has children\n",
    "        - generate $U \\sim $ Uniform$(0,1)$ and use this to decide whether to\n",
    "            - move to left child with probability pL\n",
    "            - move to right child with probability 1-pL\n",
    "        - and move to a child accordingly"
   ]
  },
  {
   "cell_type": "code",
   "execution_count": 25,
   "id": "96ef96db-e3a1-4825-96ae-41a837387ab1",
   "metadata": {},
   "outputs": [],
   "source": [
    "# Code cell for Problem 6\n",
    "def generate(rnode):\n",
    "    \n",
    "    N = 0\n",
    "    \n",
    "    while(rnode.left_child):\n",
    "        \n",
    "        distribution = np.random.uniform(0,1)\n",
    "        N += 1\n",
    "        \n",
    "        if distribution <= rnode.pL:\n",
    "            rnode = rnode.left_child\n",
    "        else:\n",
    "            rnode = rnode.right_child\n",
    "            \n",
    "        \n",
    "        \n",
    "    X = rnode.label\n",
    "    \n",
    "    return N,X "
   ]
  },
  {
   "cell_type": "markdown",
   "id": "48c31f3f-06d0-4643-b25d-5968ea8d5dd0",
   "metadata": {},
   "source": [
    "**Problem 7 (5 points)**\n",
    "\n",
    "The file \"tree.txt\" is the result of using the write method for a discrete random variable generating tree. Use the **read** function defined above to read the file, and create the tree stored there and return the tree's root node as **rnode** using:\n",
    "\n",
    "> rnode=read(\"tree.txt\")\n",
    "\n",
    "Then use your **generate** function to generate a sample of 100,000 pairs (N,X) of output values. Once you have a list of these realizations, use this to give \n",
    "\n",
    "- **EXest** = an estimate of the expected value of $X$ if $X$ is sampled from the distribution associated with the tree \n",
    "\n",
    "- **ENest** = an estimate of the expected number of times a uniform random variable needs to be generated when we sample using the tree.\n",
    "\n",
    "Use the following cell for your code and the subsequent cell for literal assignments."
   ]
  },
  {
   "cell_type": "code",
   "execution_count": 26,
   "id": "d0eb1533-c6a8-4908-978f-89648eba3625",
   "metadata": {},
   "outputs": [
    {
     "name": "stdout",
     "output_type": "stream",
     "text": [
      "EXest= 73.81096\n",
      "ENest= 6.07697\n"
     ]
    }
   ],
   "source": [
    "# Code cell for Problem 7\n",
    "\n",
    "rnode = read(\"tree.txt\")\n",
    "\n",
    "temp_list = []\n",
    "res = []\n",
    "\n",
    "for _ in range(100000):\n",
    "    \n",
    "    (N, X) = generate(rnode)\n",
    "    \n",
    "    temp_list.append(N)\n",
    "    \n",
    "    res.append(X)\n",
    "    \n",
    "print(\"EXest=\", np.mean(res))\n",
    "print(\"ENest=\", np.mean(temp_list))"
   ]
  },
  {
   "cell_type": "code",
   "execution_count": 28,
   "id": "1421ce17-1d1b-48d4-addc-c5fddabc5afc",
   "metadata": {},
   "outputs": [],
   "source": [
    "# Literal assignment cell for Problem 7\n",
    "EXest= 73.81096\n",
    "ENest= 6.07697"
   ]
  },
  {
   "cell_type": "markdown",
   "id": "d89f5ac1-3f1b-4cc9-9766-a09881022805",
   "metadata": {},
   "source": [
    "**Problem 8 (5 points)**\n",
    "\n",
    "Write a function called **get_leaf_info** that takes as input:\n",
    "\n",
    "**rnode** = the root node of a **sample discrete distribution** tree \n",
    "\n",
    "and which outputs \n",
    "\n",
    "**L** = a list of 3-tuples containing one 3-tuple **(N,P,X)** for each leaf in the tree, and where\n",
    "\n",
    "> **N** = length of path from root node to the leaf \n",
    "> **P** = probability (p) associated with the leaf   \n",
    "> **X** = label at the leaf"
   ]
  },
  {
   "cell_type": "code",
   "execution_count": 29,
   "id": "0ecb28a8-a6de-4986-8d8e-9106a730dd5b",
   "metadata": {},
   "outputs": [],
   "source": [
    "# Code cell for Problem 8\n",
    "def get_leaf_info(rnode):\n",
    "    \n",
    "    nodelist = []\n",
    "    \n",
    "    #recursive\n",
    "    def helper(subnode, N = 0):\n",
    "        if subnode.left_child is not None or subnode.right_child is not None:\n",
    "            N += 1\n",
    "            for node in [subnode.left_child, subnode.right_child]:\n",
    "                helper(node, N)\n",
    "        else:\n",
    "            nodelist.append( (N, subnode.label, subnode.p) )\n",
    "    \n",
    "    helper(rnode)\n",
    "    return nodelist    "
   ]
  },
  {
   "cell_type": "markdown",
   "id": "73903b77-5660-4451-b24b-67e43dcb3cc0",
   "metadata": {},
   "source": [
    "**Problem 9 (5 points)**\n",
    "\n",
    "Use the output of function you wrote in Problem 8 to calculate the exact values (ignoring errors due to  floating point imprecision) of $E[X]$ and $E[N]$ for the distribution defined by the tree in Problem 7. \n",
    "\n",
    "Use the following cell for your code and in the subsequent literal assignment cell, assign values to:\n",
    "\n",
    "**EX**\n",
    "\n",
    "**EN**"
   ]
  },
  {
   "cell_type": "code",
   "execution_count": 30,
   "id": "96783e5d-e4ba-431b-9225-89c55bdc3065",
   "metadata": {},
   "outputs": [
    {
     "name": "stdout",
     "output_type": "stream",
     "text": [
      "EX= 73.8846433128999\n",
      "EN= 6.074456643870252\n"
     ]
    }
   ],
   "source": [
    "# Code cell for Problem 9\n",
    "EN_es = 0\n",
    "EX_es = 0\n",
    "res_list = get_leaf_info(rnode)\n",
    "\n",
    "for number, label, p_value in res_list:\n",
    "    EN_es += number * p_value\n",
    "    EX_es += label * p_value\n",
    "\n",
    "print(\"EX=\", EX_es)\n",
    "print(\"EN=\", EN_es)"
   ]
  },
  {
   "cell_type": "code",
   "execution_count": 100,
   "id": "e222dba2-3d74-4ef7-8f19-57c03a724735",
   "metadata": {},
   "outputs": [],
   "source": [
    "# Literal assignment cell for Problem 9\n",
    "EX= 73.8846433128999\n",
    "EN= 6.074456643870252"
   ]
  }
 ],
 "metadata": {
  "kernelspec": {
   "display_name": "Python 3 (ipykernel)",
   "language": "python",
   "name": "python3"
  },
  "language_info": {
   "codemirror_mode": {
    "name": "ipython",
    "version": 3
   },
   "file_extension": ".py",
   "mimetype": "text/x-python",
   "name": "python",
   "nbconvert_exporter": "python",
   "pygments_lexer": "ipython3",
   "version": "3.9.12"
  },
  "vscode": {
   "interpreter": {
    "hash": "bb4885475557d999c30dcebefcaae4a31bd5f1339d9643eb06216dbf9da18f9c"
   }
  }
 },
 "nbformat": 4,
 "nbformat_minor": 5
}
