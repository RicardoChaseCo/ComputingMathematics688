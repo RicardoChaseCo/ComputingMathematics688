{
 "cells": [
  {
   "cell_type": "markdown",
   "metadata": {},
   "source": [
    "**Buffon's Needle Assignment**"
   ]
  },
  {
   "cell_type": "markdown",
   "metadata": {},
   "source": [
    "**Important - read carefully**\n",
    "\n",
    "- Failure to follow instructions will lead to point penalties.\n",
    "\n",
    "- You will need to execute the following cell to use this notebook. \n",
    "\n",
    "- You are **not** allowed to use any other packages in this assignment.\n",
    "\n",
    "- When you are done with this assignment, evaluation of all cells should produce no errors.\n",
    "\n",
    "- When asked to write a function, **use exactly the function name requested** and \n",
    "do not define any other function with the same name anywhere else in the notebook.\n",
    "\n",
    "- When asked to make a **literal assignment** to a variable, you should \n",
    "    - use exactly the name of the variable requested on the left hand side\n",
    "of the assignment\n",
    "    - do **not** assign a value to that variable name anywhere else in the notebook\n",
    "    - use **no functions, no variables, and no arithmetic operations on the right hand side (you can use a different cell to print out a number and then copy the number** to the right hand side of the assignment.\n",
    "    - when asked for a literal floating point value in an assignment, for example\n",
    "        - x = 67.5 **is** ok\n",
    "        - x = \"67.5\" is **not** ok (that's a literal **string** assignment!)"
   ]
  },
  {
   "cell_type": "code",
   "execution_count": 39,
   "metadata": {},
   "outputs": [],
   "source": [
    "import numpy as np"
   ]
  },
  {
   "cell_type": "markdown",
   "metadata": {},
   "source": [
    "The purpose of this assignment is to give you some practise at coding functions in which various kinds of control flow constructs are needed. Monte Carlo simulation provides a framework relevant for many applications in which we need to simulate a system exhibiting stochasticity. In face, the first modern use of Monte Carlo simulation was developed by Stanslaw Ulam at Los Alamos National Laboratory as part of the Manhattan project (nuclear weapons development), but the applications are abundent and it has become an essential tool for applied mathematicians.\n",
    "\n",
    "For an overview of the Monte Carlo method, see: https://en.wikipedia.org/wiki/Monte_Carlo_method\n",
    "\n",
    "To illustrate how it works, we can focus for now on Buffon's needle problem. Here is a reference:\n",
    "https://en.wikipedia.org/wiki/Buffon%27s_needle_problem\n",
    "\n",
    "The idea is due to Georges-Louis Leclerc, Comte de Buffon a French mathematician who had some pretty wacky ideas, but the needle problem is a fun one. Imagine you have parallel lines in a plane all separated by the same distance $d$ (like the 5 yard lines in an American football field). "
   ]
  },
  {
   "attachments": {
    "e9002e24-277d-4a98-84f2-212383d5dcf8.png": {
     "image/png": "[encoded data removed]"
    }
   },
   "cell_type": "markdown",
   "metadata": {},
   "source": [
    "![field.png](attachment:e9002e24-277d-4a98-84f2-212383d5dcf8.png)"
   ]
  },
  {
   "cell_type": "markdown",
   "metadata": {},
   "source": [
    "You have a needle whose length is 1 and you spin it around at random and drop it from some random position above the plane. Once it lands, you check whether it crosses one of the lines. \n",
    "\n",
    "To model this, the lines in our plane are the lines with integer $y$-coordinates. We'll assume needle has a non-pointy end whose $y$-coordinate (denoted by $Y$) is uniformly distributed between 0 and 1. Is it clear why we don't care about the $x$-coordinate? \n",
    "Then we'll spin the needle so that the angle $\\Theta$  it makes with the horizontal axis is uniformly distributed between 0 and $2\\pi.$"
   ]
  },
  {
   "attachments": {
    "d54f1822-3707-4341-be12-d10b766e0aba.png": {
     "image/png": "[encoded data removed]"
    }
   },
   "cell_type": "markdown",
   "metadata": {},
   "source": [
    "![field2.png](attachment:d54f1822-3707-4341-be12-d10b766e0aba.png)"
   ]
  },
  {
   "cell_type": "markdown",
   "metadata": {},
   "source": [
    "If we know the values of $Y$ and $\\Theta$ we can tell whether the needle crosses a line. There are two cases to consider.\n",
    "\n",
    "1) If $\\Theta \\in [0,\\pi]$ then the needle is pointing in an upward (or horizontal) direction, and a line crossing occurs if the interval $[Y,Y + \\sin(\\Theta)]$ contains an integer.\n",
    "\n",
    "2) If $\\Theta \\in [\\pi,2\\pi]$ then the needle is pointing in a downward (or horizontal) direction, and a line crossing occurs if the interval $[Y + \\sin(\\Theta),Y]$ contains an integer.\n",
    "\n",
    "In either case, to decide whether a line crossing occurs, we just need to decide whether there is in integer between $Y$ and $Y+\\sin(\\Theta).$ \n"
   ]
  },
  {
   "attachments": {
    "5a959f40-e636-4230-b3bd-855548cbf6b6.png": {
     "image/png": "[encoded data removed]"
    }
   },
   "cell_type": "markdown",
   "metadata": {},
   "source": [
    "![field3.png](attachment:5a959f40-e636-4230-b3bd-855548cbf6b6.png)"
   ]
  },
  {
   "cell_type": "markdown",
   "metadata": {},
   "source": [
    "This is easy to check. The floor of a floating point number $r$ is defined to be the largest integer less than or equal to $r.$"
   ]
  },
  {
   "cell_type": "code",
   "execution_count": 40,
   "metadata": {},
   "outputs": [
    {
     "name": "stdout",
     "output_type": "stream",
     "text": [
      "3.0\n",
      "-3.0\n"
     ]
    }
   ],
   "source": [
    "import numpy as np\n",
    "r=3.14159\n",
    "print(np.floor(r))\n",
    "r=-2.34134\n",
    "print(np.floor(r))"
   ]
  },
  {
   "cell_type": "markdown",
   "metadata": {},
   "source": [
    "If the two numbers $Y$ and $Y+\\sin(\\Theta)$ have the same floor then either \n",
    "\n",
    "* they are the same integer (which happens with probability 0), or\n",
    "* they both lie strictly between two integers, so a line-crossing does not occur\n",
    "\n",
    "So here is a function to check a realization of $(Y,\\Theta)$ for a line crossing."
   ]
  },
  {
   "cell_type": "code",
   "execution_count": 41,
   "metadata": {},
   "outputs": [],
   "source": [
    "import numpy as np\n",
    "def check_line_crossing(Y,Theta):\n",
    "    I1=np.floor(Y)\n",
    "    I2=np.floor(Y+np.sin(Theta))\n",
    "    if I1==I2:\n",
    "        return False\n",
    "    else:\n",
    "        return True"
   ]
  },
  {
   "cell_type": "markdown",
   "metadata": {},
   "source": [
    "Or more concisely"
   ]
  },
  {
   "cell_type": "code",
   "execution_count": 42,
   "metadata": {},
   "outputs": [],
   "source": [
    "import numpy as np\n",
    "def check_line_crossing(Y,Theta):\n",
    "    return(np.floor(Y)!=np.floor(Y+np.sin(Theta)))"
   ]
  },
  {
   "cell_type": "markdown",
   "metadata": {},
   "source": [
    "**Monte Carlo estimation of the probability**\n",
    "\n",
    "Now the pieces are in place for estimating the probability. We repeatedly generate realizations and determine the proportion of them that produce a line crossing.\n",
    "\n",
    "The resulting estimate $\\hat{p}$ (the sample proportion) based on $n$ repeated trials \n",
    "has variance $p(1-p)/n$ so we can estimate the variance of our estimate by\n",
    "$$\n",
    "\\sqrt{\\hat{p}(1-\\hat{p})/n}\n",
    "$$"
   ]
  },
  {
   "cell_type": "code",
   "execution_count": 43,
   "metadata": {},
   "outputs": [
    {
     "name": "stdout",
     "output_type": "stream",
     "text": [
      "probability estimate = 0.62850\n",
      "standard error estimate = 0.00483\n",
      "95% confidence interval = (0.61903,0.63797)\n"
     ]
    }
   ],
   "source": [
    "import numpy as np\n",
    "ntrials=10000\n",
    "ctr=0\n",
    "for i in range(ntrials):\n",
    "    #\n",
    "    # Generate realization of a single uniform(0,1) random variable \n",
    "    # using numpy's random.uniform function\n",
    "    #\n",
    "    Y=np.random.uniform(0,1)\n",
    "    #\n",
    "    # Generate a realization of a single unifor(0,2*pi) random variable\n",
    "    #\n",
    "    Theta=np.random.uniform(0,2*np.pi)\n",
    "    #\n",
    "    # Check line crossing property for this realization\n",
    "    #\n",
    "    line_crossing=check_line_crossing(Y,Theta)\n",
    "    #\n",
    "    # Increment the line crossing count.\n",
    "    # Note that Boolean is converted to 0/1.\n",
    "    #\n",
    "    ctr+=line_crossing\n",
    "#\n",
    "# Compute sample proportion of crossings\n",
    "#\n",
    "pest=ctr/ntrials\n",
    "#\n",
    "# Compute estimate of the variance of pest \n",
    "#\n",
    "vest=pest*(1-pest)/ntrials\n",
    "#\n",
    "# And the standard deviation of our estimator\n",
    "#\n",
    "stderr=np.sqrt(vest)\n",
    "#\n",
    "# Get lower and upper 95% confidence intervals\n",
    "#\n",
    "CIlower=pest-1.96*stderr\n",
    "CIupper=pest+1.96*stderr\n",
    "print(\"probability estimate = {0:7.5f}\".format(pest))\n",
    "print(\"standard error estimate = {0:7.5f}\".format(stderr))\n",
    "print(\"95% confidence interval = ({0:7.5f},{1:7.5f})\".format(CIlower,CIupper))"
   ]
  },
  {
   "cell_type": "markdown",
   "metadata": {},
   "source": [
    "**Getting the probability analytically**\n",
    "\n",
    "The exact value of the probability can be obtained using calculus (see the Wikipedia article) and is found to be $2/\\pi.$"
   ]
  },
  {
   "cell_type": "code",
   "execution_count": 44,
   "metadata": {},
   "outputs": [
    {
     "data": {
      "text/plain": [
       "0.6366197723675814"
      ]
     },
     "execution_count": 44,
     "metadata": {},
     "output_type": "execute_result"
    }
   ],
   "source": [
    "2/np.pi"
   ]
  },
  {
   "cell_type": "markdown",
   "metadata": {},
   "source": [
    "Of course, the point of the Monte Carlo method as a tool is to address estimation problems that are intractible."
   ]
  },
  {
   "cell_type": "markdown",
   "metadata": {},
   "source": [
    "**Estimation of an expected value**\n",
    "\n",
    "Estimation of probabilities is a special case of a more general problem: estimation of an expected value. If $A$ is an event (e.g. line crossing occurs), then its probability $P[A]$ is $E[I_A],$ the expected value of the random variable $I_A$ that takes the value 0 if $A$ doesn't occur and 1 if $A$ occurs. \n",
    "\n",
    "Our Monte Carlo estimate of $P[A]$ this expected value based on $n$ trials is the proportion of times the event occurs in these trials. We can view each trial as producing a realization of the random variable $I_A$ (a zero or a 1) and our estimate is the average of these realizations.\n",
    "\n",
    "More generally, if our experiment leads to realization of any random variable $X$ whose expected value $E[X]$ is finite, we can estimate $\\mu = E[X]$ by averaging realizations of $X$ in repeated trials. In $n$ trials we obtain $X_0\\ldots,X_{n-1}$ and our approximation to $\\hat{\\mu}$ can be taken to be $\\overline{X} = \\frac{1}{n} \\sum_{i=0}^{n-1} X_i.$\n",
    "\n",
    "We can estimate the standard deviation of $\\hat{\\mu}$ by $S/\\sqrt{n}$ where \n",
    "\n",
    "$$S^2=\\sum_{i=0}^{n-1} (X_i - \\overline{X})^2/(n-1) = {\\sum_{i=0}^{n-1} X_i^2 - n \\overline{X}^2 \\over n-1}\n",
    "$$\n",
    "\n",
    "the sample variance (so note that we can get this estimate by summing up the $X_i$ and the $X_i^2.$\n",
    "\n",
    "The estimator $S/\\sqrt{n}$ of the standard deviation of $\\hat{\\mu}$ is often referred to as the *standard error* of $\\hat{\\mu}.$\n",
    "\n",
    "Then for a 95% confidence interval for $\\mu$ we can use\n",
    "\n",
    "$$\n",
    "\\overline{X} \\pm 1.96 S/\\sqrt{n}.\n",
    "$$\n"
   ]
  },
  {
   "cell_type": "markdown",
   "metadata": {},
   "source": [
    "**Example**\n",
    "\n",
    "When we drop the needle, what is the expected value of the \n",
    "distance to the nearest line? (We take this to be zero if there is a line-crossing.)\n",
    "\n",
    "To get an approximation, we average many realizations of these distances.\n",
    "\n",
    "We need a function to calculate the distance. If there is not a line-crossing then the distance is the minimum of \n",
    "the distances from each endpoint from its nearest line. So the following function gives this distance.\n"
   ]
  },
  {
   "cell_type": "code",
   "execution_count": 45,
   "metadata": {},
   "outputs": [],
   "source": [
    "def distance_to_nearest_line(Y,Theta):\n",
    "    if check_line_crossing(Y,Theta):\n",
    "        return(0.)\n",
    "    d1=np.abs(Y-np.round(Y))\n",
    "    d2=np.abs(Y+np.sin(Theta)-np.round(Y+np.sin(Theta)))\n",
    "    return(min(d1,d2))"
   ]
  },
  {
   "cell_type": "markdown",
   "metadata": {},
   "source": [
    "One we have a function that computes the value of our random variable in a single realization, the rest of our work is a straightforward modification of the code above for estimating an expected value and getting a confidence interval for it.\n",
    "\n",
    "(Note that in addition to recording the sum of the realizations we record the sum of their squares to get our sample variance.)"
   ]
  },
  {
   "cell_type": "code",
   "execution_count": 46,
   "metadata": {},
   "outputs": [
    {
     "name": "stdout",
     "output_type": "stream",
     "text": [
      "expected value estimate = 0.05731\n",
      "standard error estimate = 0.00104\n",
      "95% confidence interval = (0.05528,0.05934)\n"
     ]
    }
   ],
   "source": [
    "import numpy as np\n",
    "ntrials=10000\n",
    "s=0\n",
    "s2=0\n",
    "for i in range(ntrials):\n",
    "    # Generate realization \n",
    "    Y=np.random.uniform(0,1)\n",
    "    Theta=np.random.uniform(0,2*np.pi)\n",
    "    d=distance_to_nearest_line(Y,Theta)\n",
    "    # compute the sum of distances and sum of squared distances\n",
    "    s+=d\n",
    "    s2+=d**2\n",
    "est=s/ntrials\n",
    "vest=(s2-ntrials*est**2)/(ntrials-1)\n",
    "stderr=np.sqrt(vest/ntrials)\n",
    "CIlower=est-1.96*stderr\n",
    "CIupper=est+1.96*stderr\n",
    "print(\"expected value estimate = {0:7.5f}\".format(est))\n",
    "print(\"standard error estimate = {0:7.5f}\".format(stderr))\n",
    "print(\"95% confidence interval = ({0:7.5f},{1:7.5f})\".format(CIlower,CIupper))"
   ]
  },
  {
   "cell_type": "markdown",
   "metadata": {},
   "source": [
    "**Exercises**\n",
    "\n",
    "We've laid the groundwork for some exercises. In fact, the only thing that changes is\n",
    "\n",
    "* code for generating a realization\n",
    "* code for determining the random variable being averaged\n",
    "\n",
    "Now we consider some examples where you do the work."
   ]
  },
  {
   "cell_type": "markdown",
   "metadata": {},
   "source": [
    "**Problem 1 (5 points)**\n",
    "\n",
    "Suppose that the needle falls in such a way that the distribution of $Y$ has cdf $F(x)=x^2$ for $x \\in (0,1).$ (The distribution of $\\Theta$ should still be uniform in the interval $(0,2\\pi)$ and $\\Theta$ and $Y$ are still independent.)\n",
    "\n",
    "Estimate the probability that the needle crosses a line and find a 95% confidence interval for that probability. Here a 95% confidence interval is of the form (lower bound,upper bound).\n",
    "\n",
    "**Note:** You can use the inversion method to generate $Y$ having the required distribution.\n",
    "\n",
    "Put your code in the cell below. You can print out numbers in this cell.\n",
    "\n",
    "Make sure you do **not** assign values to the variables requested in the literal assignment cell.\n",
    "\n",
    "You will be asked to summarize your results in the cell after the next one with **literal** assignments."
   ]
  },
  {
   "cell_type": "code",
   "execution_count": 47,
   "metadata": {},
   "outputs": [
    {
     "name": "stdout",
     "output_type": "stream",
     "text": [
      "expected value estimate = 0.63290\n",
      "standard error estimate = 0.00482\n",
      "95% confidence interval = (0.62345,0.64235)\n"
     ]
    }
   ],
   "source": [
    "import numpy as np\n",
    "ntrials=10000\n",
    "s=0\n",
    "s2=0\n",
    "for i in range(ntrials):\n",
    "    Y = 2*np.random.uniform(0,1)\n",
    "    Theta=np.random.uniform(0,2*np.pi)\n",
    "    d=check_line_crossing(Y,Theta)\n",
    "    s+=d\n",
    "    s2+=d**2\n",
    "est=s/ntrials\n",
    "vest=(s2-ntrials*est**2)/(ntrials-1)\n",
    "stderr=np.sqrt(vest/ntrials)\n",
    "CIlower=est-1.96*stderr\n",
    "CIupper=est+1.96*stderr\n",
    "print(\"expected value estimate = {0:7.5f}\".format(est))\n",
    "print(\"standard error estimate = {0:7.5f}\".format(stderr))\n",
    "print(\"95% confidence interval = ({0:7.5f},{1:7.5f})\".format(CIlower,CIupper))"
   ]
  },
  {
   "cell_type": "markdown",
   "metadata": {},
   "source": [
    "In the following cell, assign a **literal floating point value** to each of the following:\n",
    "\n",
    "- **problem1_pest** your estimated probability of a line crossing\n",
    "- **problem1_std** your estimate of the standard deviation of problem1_pest\n",
    "- **problem1_pest_lower** the lower bound\n",
    "- **problem1_pest_upper** the upper bound\n",
    "\n",
    "You can also use these variable names in the previous cell but when you do your assignments in the following cell, you should not have variable names or functions or arithmetic expressions on the right hand side."
   ]
  },
  {
   "cell_type": "code",
   "execution_count": 48,
   "metadata": {},
   "outputs": [],
   "source": [
    "problem1_pest=0.63290\n",
    "problem1_std=0.00482\n",
    "problem1_pest_lower=0.62345\n",
    "problem1_pest_upper=0.64235"
   ]
  },
  {
   "attachments": {
    "23693e71-444e-410c-8a99-d37acb10fd74.PNG": {
     "image/png": "[encoded data removed]"
    },
    "86f28516-a29b-45d3-905c-7607de4c01ac.png": {
     "image/png": "[encoded data removed]"
    }
   },
   "cell_type": "markdown",
   "metadata": {},
   "source": [
    "**Two Attached Needles**\n",
    "\n",
    "As before, we have lines in the plane separated by 1 unit at $y=0,\\pm 1,\\pm2,\\ldots$\n",
    "\n",
    "A blue needle of length 1 is attached to a red needle of length 1 unit\n",
    "separated by a perpendicular angle. Call the point where the needles are attached $Q.$\n",
    "\n",
    "The point $Q$ ends up at random vertical distance $Y$ distributed Uniform(0,1) from the horizontal line closest to that point, with the blue needle pointing in a direction parallel to the $x$-axis as shown here:\n",
    "\n",
    "![field4.png](attachment:86f28516-a29b-45d3-905c-7607de4c01ac.png)\n",
    "\n",
    "\n",
    "Then the combined needles spins a random angle $\\Theta$ about $P$ where $\\Theta$ is uniformly distributed in $[0,2\\pi)$ as shown here:\n",
    "\n",
    "![field5.PNG](attachment:23693e71-444e-410c-8a99-d37acb10fd74.PNG)\n",
    "\n",
    "The angle of spin is taken to be independent of $Y.$\n",
    "\n",
    "We want to estimate the probability that at least one of the needles crosses a line. "
   ]
  },
  {
   "cell_type": "markdown",
   "metadata": {},
   "source": [
    "**Problem 2 (5 points)**\n",
    "\n",
    "Write a function called **check_line_crossing_2needles** that takes as inputs two arguments\n",
    "\n",
    "- Y \n",
    "- $\\Theta$ \n",
    "\n",
    "and outputs a Boolean value\n",
    "\n",
    "- True, if at least one of the needles crosses a line, and \n",
    "- False otherwise.\n",
    "\n",
    "Do not include any other code in the following cell."
   ]
  },
  {
   "cell_type": "code",
   "execution_count": 49,
   "metadata": {},
   "outputs": [],
   "source": [
    "import numpy as np\n",
    "\n",
    "def check_line_crossing_2needles(Y,Theta):\n",
    "    element=np.floor(Y)\n",
    "    A=np.floor(Y+np.sin(Theta))\n",
    "    B=np.floor(Y+np.cos(Theta))\n",
    "    if element==A and element==B:\n",
    "        return False\n",
    "    else:\n",
    "        return True"
   ]
  },
  {
   "cell_type": "markdown",
   "metadata": {},
   "source": [
    "**Problem 3 (5 points)**\n",
    "\n",
    "Use the function you defined in Problem 2 to estimate the probability that at least one of the needles crosses a line, and get a 95% confidence interval for this probability. \n",
    "\n",
    "Put your code in the next cell. In this cell you can print out the values of your estimates for the variables you are asked to assign literal values to in the subsequent cell.\n",
    "\n",
    "Make sure you do **not** define a function named **check_line_crossing_2needles** in the following cell. \n",
    "\n",
    "Make sure you do **not** assign values to the variables requested in the literal assignment cell."
   ]
  },
  {
   "cell_type": "code",
   "execution_count": 50,
   "metadata": {},
   "outputs": [
    {
     "name": "stdout",
     "output_type": "stream",
     "text": [
      "expected value estimate = 0.95300\n",
      "standard error estimate = 0.00212\n",
      "95% confidence interval = (0.94885,0.95715)\n"
     ]
    }
   ],
   "source": [
    "import numpy as np\n",
    "\n",
    "# Func\n",
    "def check_line_crossing_2needles(Y,Theta):\n",
    "    element=np.floor(Y)\n",
    "    A=np.floor(Y+np.sin(Theta))\n",
    "    B=np.floor(Y+np.cos(Theta))\n",
    "    if element==A and element==B:\n",
    "        return False\n",
    "    else:\n",
    "        return True\n",
    "\n",
    "# Cal\n",
    "ntrials=10000\n",
    "s=0\n",
    "s2=0\n",
    "for i in range(ntrials):\n",
    "    Y=np.random.uniform(0,1)\n",
    "    Theta=np.random.uniform(0,2*np.pi)\n",
    "    d=check_line_crossing_2needles(Y,Theta)\n",
    "    s+=d\n",
    "    s2+=d**2   \n",
    "est=s/ntrials\n",
    "vest=(s2-ntrials*est**2)/(ntrials-1)\n",
    "stderr=np.sqrt(vest/ntrials)\n",
    "CIlower=est-1.96*stderr\n",
    "CIupper=est+1.96*stderr\n",
    "print(\"expected value estimate = {0:7.5f}\".format(est))\n",
    "print(\"standard error estimate = {0:7.5f}\".format(stderr))\n",
    "print(\"95% confidence interval = ({0:7.5f},{1:7.5f})\".format(CIlower,CIupper))"
   ]
  },
  {
   "cell_type": "markdown",
   "metadata": {},
   "source": [
    "In the following cell, assign a **literal floating point value** to each of the following:\n",
    "\n",
    "- **problem3_pest** your estimated probability of a line crossing by at least one needle\n",
    "- **problem3_std** your estimate of the standard deviation of problem1_pest\n",
    "- **problem3_pest_lower** the lower bound\n",
    "- **problem3_pest_upper** the upper bound\n"
   ]
  },
  {
   "cell_type": "code",
   "execution_count": 51,
   "metadata": {},
   "outputs": [],
   "source": [
    "problem3_pest=0.95300\n",
    "problem3_std=0.00212\n",
    "problem3_pest_lower=0.94885\n",
    "problem3_pest_upper=0.95715"
   ]
  },
  {
   "cell_type": "markdown",
   "metadata": {},
   "source": [
    "**Problem 4 (5 points)**\n",
    "\n",
    "When the two attached needles are dropped in the plane as described above, let \n",
    "\n",
    "- $B$ denote the event that the blue needle crosses a line\n",
    "- $R$ denote the event that the red needle crosses a line\n",
    "\n",
    "Give an estimate of the probability of $B\\cap R.$ You do not have to give a confidence interval. \n",
    "\n",
    "**Note** - you can write Monte-Carlo code for this or you can use previous estimates of probabilities. \n",
    "\n",
    "Use the cell below to put any code you need. In the cell after that one you will be asked for a literal assignment.\n",
    "\n",
    "Make sure you do **not** assign values to the variables requested in the literal assignment cell."
   ]
  },
  {
   "cell_type": "code",
   "execution_count": 52,
   "metadata": {},
   "outputs": [
    {
     "name": "stdout",
     "output_type": "stream",
     "text": [
      "expected value estimate = 0.95020\n",
      "standard error estimate = 0.00218\n",
      "95% confidence interval = (0.94594,0.95446)\n"
     ]
    }
   ],
   "source": [
    "import numpy as np\n",
    "\n",
    "# Func\n",
    "def check_line_crossing_both2needles(Y,Theta):\n",
    "    element=np.floor(Y)\n",
    "    A=np.floor(Y+np.sin(Theta))\n",
    "    B=np.floor(Y+np.cos(Theta))\n",
    "    if element==A and element==B:\n",
    "        return False\n",
    "    else:\n",
    "        return True\n",
    "\n",
    "# Cal\n",
    "ntrials=10000\n",
    "s=0\n",
    "s2=0\n",
    "for i in range(ntrials):\n",
    "    Y=np.random.uniform(0,1)\n",
    "    Theta=np.random.uniform(0,2*np.pi)\n",
    "    d=check_line_crossing_both2needles(Y,Theta)\n",
    "    s+=d\n",
    "    s2+=d**2    \n",
    "est=s/ntrials\n",
    "vest=(s2-ntrials*est**2)/(ntrials-1)\n",
    "stderr=np.sqrt(vest/ntrials)\n",
    "CIlower=est-1.96*stderr\n",
    "CIupper=est+1.96*stderr\n",
    "print(\"expected value estimate = {0:7.5f}\".format(est))\n",
    "print(\"standard error estimate = {0:7.5f}\".format(stderr))\n",
    "print(\"95% confidence interval = ({0:7.5f},{1:7.5f})\".format(CIlower,CIupper))"
   ]
  },
  {
   "cell_type": "markdown",
   "metadata": {},
   "source": [
    "In the following cell, assign your estimate to $P[B\\cap R]$ to a variable called **probability_of_B_and_R**.\n",
    "\n",
    "This should be a **literal** assignment."
   ]
  },
  {
   "cell_type": "code",
   "execution_count": 53,
   "metadata": {},
   "outputs": [],
   "source": [
    "probability_of_B_and_R=0.95020"
   ]
  },
  {
   "cell_type": "markdown",
   "metadata": {},
   "source": [
    "**Problem 5 (5 points)**\n",
    "\n",
    "When the two attached needles are dropped in the plane as described above, define $D$ to be the shortest distance from **any** point on any of the needles to a line. In the following cell, create a function called **shortest_distance_two_needles** that takes as input\n",
    "\n",
    "- $Y$\n",
    "- $\\Theta$\n",
    "\n",
    "and outputs\n",
    "\n",
    "- $D$"
   ]
  },
  {
   "cell_type": "code",
   "execution_count": 54,
   "metadata": {},
   "outputs": [
    {
     "name": "stdout",
     "output_type": "stream",
     "text": [
      "0.09289321881345236\n"
     ]
    }
   ],
   "source": [
    "def shortest_distance_two_needles(Y,Theta):\n",
    "    if check_line_crossing_2needles(Y,Theta):\n",
    "        return(0.)\n",
    "    distance1=np.abs(Y-np.round(Y))\n",
    "    distance2=np.abs(Y+np.sin(Theta)-np.round(Y+np.sin(Theta)))\n",
    "    distance3=np.abs(Y+np.sin(Theta+0.5*np.pi)-np.round(Y+np.sin(Theta+0.5*np.pi)))\n",
    "    return(min(distance1,distance2,distance3))\n",
    "print(shortest_distance_two_needles(0.2,0.25*np.pi))"
   ]
  },
  {
   "cell_type": "markdown",
   "metadata": {},
   "source": [
    "**Problem 6 (5 points)**\n",
    "\n",
    "Estimate $\\mu = E[D]$ where $D$ is defined above, compute an estimate of the standard deviation of your estimate $\\hat{\\mu}$ and give a 95% confidence interval for $\\mu.$ \n",
    "\n",
    "Use the following cell for your calculations. \n",
    "\n",
    "In the cell after the next one you will be asked for literal assignments.\n",
    "\n",
    "Make sure you do **not** define a function called **shortest_distance_two_needles** in the following cell.\n",
    "\n",
    "Make sure you do **not** assign values to the variables requested in the literal assignment cell."
   ]
  },
  {
   "cell_type": "code",
   "execution_count": 55,
   "metadata": {},
   "outputs": [
    {
     "name": "stdout",
     "output_type": "stream",
     "text": [
      "expected value estimate = 0.00210\n",
      "standard error estimate = 0.00012\n",
      "95% confidence interval = (0.00186,0.00233)\n"
     ]
    }
   ],
   "source": [
    "import numpy as np\n",
    "\n",
    "# Cal\n",
    "ntrials=10000\n",
    "s=0\n",
    "s2=0\n",
    "for i in range(ntrials):\n",
    "    Y=np.random.uniform(0,1)\n",
    "    Theta=np.random.uniform(0,2*np.pi)\n",
    "    d=shortest_distance_two_needles(Y,Theta)\n",
    "    s+=d\n",
    "    s2+=d**2   \n",
    "est=s/ntrials\n",
    "vest=(s2-ntrials*est**2)/(ntrials-1)\n",
    "stderr=np.sqrt(vest/ntrials)\n",
    "CIlower=est-1.96*stderr\n",
    "CIupper=est+1.96*stderr\n",
    "print(\"expected value estimate = {0:7.5f}\".format(est))\n",
    "print(\"standard error estimate = {0:7.5f}\".format(stderr))\n",
    "print(\"95% confidence interval = ({0:7.5f},{1:7.5f})\".format(CIlower,CIupper))"
   ]
  },
  {
   "cell_type": "markdown",
   "metadata": {},
   "source": [
    "Assign **literal floating point values** to variables\n",
    "\n",
    "- **problem6_muhat** your estimate of $\\mu$\n",
    "- **problem6_std** your estimate of the standard deviation of $\\hat{\\mu}$\n",
    "- **problem6_lower** your lower bound \n",
    "- **problem6_upper** your upper bound \n",
    "\n",
    "\n"
   ]
  },
  {
   "cell_type": "code",
   "execution_count": 56,
   "metadata": {},
   "outputs": [],
   "source": [
    "problem6_muhat = 0.00210\n",
    "problem6_std = 0.00012\n",
    "problem6_lower = 0.00186\n",
    "problem6_upper = 0.00233"
   ]
  },
  {
   "cell_type": "markdown",
   "metadata": {},
   "source": [
    "**Problem 7 (5 points)**\n",
    "\n",
    "For these final problems we go back to the single needle situation when $Y \\sim \\mbox{Uniform}(0,1)$ and $\\Theta \\sim \\mbox{Uniform}(0,2\\pi)$ with $Y$ and $\\Theta$ independent.\n",
    "\n",
    "Let $C$ denote the event that a crossing occurs and let $T$ denote the event that $Y>.5.$\n",
    "\n",
    "We want to estimate the conditional probability of $T$ given $C$ \n",
    "\n",
    "$$P[ T \\vert C] = P[T \\cap C]/P[C].$$\n",
    "\n",
    "\n",
    "Equivalently, this is the long-run proportion of times that $T$ occurs when we restrict attention ony to trials in which $C$ occurs.\n",
    "\n",
    "So we can estimate this probability by \n",
    "\n",
    "- generating a large number of trials\n",
    "- determining the proportion $p_{T\\cap C}$ of times $T \\cap C$ occurs\n",
    "- determining the proportion $p_C$ of times $C$ occurs\n",
    "\n",
    "taking as an estimate \n",
    "\n",
    "$$ \\frac{p_{T\\cap C}}{p_C}$$\n",
    "\n",
    "Equivalently, we generate many trials and restrict attention only to those cases in which a crossing occurs, and determine the sample proportion of **those** cases  in which $Y$ occurs.\n",
    "\n",
    "In the following cell, compute an estimate of the conditional probability. (You do not have to provide any other information.)\n",
    "\n",
    "In the cell after the next one you will be asked to make a literal assignment. \n",
    "\n",
    "Do **not** assign a value to a variable with the same name in the following cell."
   ]
  },
  {
   "cell_type": "code",
   "execution_count": 57,
   "metadata": {},
   "outputs": [
    {
     "name": "stdout",
     "output_type": "stream",
     "text": [
      "expected conditional probability = 0.49004\n"
     ]
    }
   ],
   "source": [
    "import numpy as np\n",
    "\n",
    "# Cal\n",
    "ntrials=10000\n",
    "ctr_t_c=0\n",
    "ctr_c=0    \n",
    "for i in range(ntrials):\n",
    "    Y=np.random.uniform(0,1)\n",
    "    Theta=np.random.uniform(0,2*np.pi)\n",
    "    line_crossing=check_line_crossing(Y,Theta)\n",
    "    ctr_c+=line_crossing\n",
    "    if Y>0.5:\n",
    "        ctr_t_c+=line_crossing\n",
    "print(\"expected conditional probability = {0:7.5f}\".format(ctr_t_c/ctr_c))"
   ]
  },
  {
   "cell_type": "markdown",
   "metadata": {},
   "source": [
    "In the following cell, assign a literal floating point value to a variable called **conditional_probability**"
   ]
  },
  {
   "cell_type": "code",
   "execution_count": 58,
   "metadata": {},
   "outputs": [],
   "source": [
    "conditional_probability=0.49004"
   ]
  },
  {
   "cell_type": "markdown",
   "metadata": {},
   "source": [
    "**Problem 8 (5 points)**\n",
    "\n",
    "We want to estimate the conditional expected value of $\\Theta$ given that a crossing occurs. Symbolically, this can be written as \n",
    "\n",
    "$$ E[\\Theta \\vert C]$$\n",
    "\n",
    "where $C$ is the event that a crossing occurs.\n",
    "\n",
    "You can think of this as the long-run average of $\\Theta$ among trials in which the crossing event occurs. So we can estimate this by \n",
    "\n",
    "- sampling values of $Y$ and $\\Theta$ repeatedly\n",
    "- only look at trials in which a crossing occurs\n",
    "- for those trials we average the $\\Theta$ values.\n",
    "\n",
    "Estimate this conditional expected value.\n",
    "\n",
    "Use the following cell for your code.\n",
    "\n",
    "Do **not** assign a value to the variable **conditional_expected_value** in the following cell. "
   ]
  },
  {
   "cell_type": "code",
   "execution_count": 59,
   "metadata": {},
   "outputs": [
    {
     "name": "stdout",
     "output_type": "stream",
     "text": [
      "expected conditional expected value = 3.15158\n"
     ]
    }
   ],
   "source": [
    "import numpy as np\n",
    "\n",
    "# Cal\n",
    "ntrials=10000\n",
    "sum_c=0\n",
    "sum_theta=0    \n",
    "for i in range(ntrials):\n",
    "    Y=np.random.uniform(0,1)\n",
    "    Theta=np.random.uniform(0,2*np.pi)\n",
    "    if check_line_crossing(Y,Theta):\n",
    "        sum_c+=1\n",
    "        sum_theta+=Theta\n",
    "print(\"expected conditional expected value = {0:7.5f}\".format(sum_theta/sum_c))"
   ]
  },
  {
   "cell_type": "markdown",
   "metadata": {},
   "source": [
    "In the following cell, assign a literal floating point value to **conditional_expected_value**"
   ]
  },
  {
   "cell_type": "code",
   "execution_count": 60,
   "metadata": {},
   "outputs": [],
   "source": [
    "conditional_expected_value=3.15158"
   ]
  },
  {
   "cell_type": "markdown",
   "metadata": {},
   "source": [
    "**When you are done with the assignment save your notebook <u>after</u> running all cells.**\n",
    "\n",
    "**Then submit your saved notebook.**"
   ]
  }
 ],
 "metadata": {
  "kernelspec": {
   "display_name": "Python 3 (ipykernel)",
   "language": "python",
   "name": "python3"
  },
  "language_info": {
   "codemirror_mode": {
    "name": "ipython",
    "version": 3
   },
   "file_extension": ".py",
   "mimetype": "text/x-python",
   "name": "python",
   "nbconvert_exporter": "python",
   "pygments_lexer": "ipython3",
   "version": "3.9.12"
  }
 },
 "nbformat": 4,
 "nbformat_minor": 4
}
